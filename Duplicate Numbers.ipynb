{
 "cells": [
  {
   "cell_type": "markdown",
   "id": "087dca23",
   "metadata": {},
   "source": [
    "## Duplicate Numbers\n",
    "#### 0-9까지의 문자로 된 숫자를 입력 받았을 때, 이 입력 값이 0-9까지의 모든 숫자가 각각 한번씩만 사용된 것인지 확인하는 함수를 구하시오.\n",
    "\n",
    "- sample inputs: 0123456789 01234 01234567890 6789012345 012322456789\n",
    "\n",
    "- sample outputs: true false false true false"
   ]
  },
  {
   "cell_type": "code",
   "execution_count": null,
   "id": "2acb05a3",
   "metadata": {},
   "outputs": [],
   "source": []
  }
 ],
 "metadata": {
  "kernelspec": {
   "display_name": "Python 3 (ipykernel)",
   "language": "python",
   "name": "python3"
  },
  "language_info": {
   "codemirror_mode": {
    "name": "ipython",
    "version": 3
   },
   "file_extension": ".py",
   "mimetype": "text/x-python",
   "name": "python",
   "nbconvert_exporter": "python",
   "pygments_lexer": "ipython3",
   "version": "3.10.9"
  },
  "vscode": {
   "interpreter": {
    "hash": "8b5c1f561d2d0e0742d9017a700b1827e4f6643b5e48318fcc1a8a6763d8e21c"
   }
  }
 },
 "nbformat": 4,
 "nbformat_minor": 5
}
