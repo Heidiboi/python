{
 "cells": [
  {
   "cell_type": "code",
   "execution_count": 2,
   "id": "c78cafb2-1122-46ef-848e-64281ab5c8ef",
   "metadata": {},
   "outputs": [],
   "source": [
    "text = '안녕하세욘'"
   ]
  },
  {
   "cell_type": "code",
   "execution_count": 3,
   "id": "4a636065-d1b2-446c-abba-eee42a427db2",
   "metadata": {},
   "outputs": [
    {
     "data": {
      "text/plain": [
       "(221,\n",
       " b'2.0.0 closing connection 9-20020a170902c14900b001a4ee93efa2sm828353plj.137 - gsmtp')"
      ]
     },
     "execution_count": 3,
     "metadata": {},
     "output_type": "execute_result"
    }
   ],
   "source": [
    "import smtplib\n",
    "from email.mime.text import MIMEText\n",
    "from email.mime.multipart import MIMEMultipart\n",
    "\n",
    "# 세션생성, 로그인\n",
    "s = smtplib.SMTP('smtp.gmail.com', 587)\n",
    "s.starttls()\n",
    "s.login('ggoreb.kim@gmail.com', 'mehckjybignvhptw')\n",
    "\n",
    "# 제목, 본문 작성\n",
    "msg = MIMEMultipart()\n",
    "msg['Subject'] = '제목'\n",
    "msg.attach(MIMEText(text, 'html'))\n",
    "\n",
    "# 메일 전송\n",
    "s.sendmail('ggoreb.kim@gmail.com', 'seorab@naver.com', msg.as_string())\n",
    "s.quit()"
   ]
  },
  {
   "cell_type": "code",
   "execution_count": null,
   "id": "545cd1cd-ef21-4709-ac16-eb207d13b32b",
   "metadata": {},
   "outputs": [],
   "source": []
  }
 ],
 "metadata": {
  "kernelspec": {
   "display_name": "Python 3 (ipykernel)",
   "language": "python",
   "name": "python3"
  },
  "language_info": {
   "codemirror_mode": {
    "name": "ipython",
    "version": 3
   },
   "file_extension": ".py",
   "mimetype": "text/x-python",
   "name": "python",
   "nbconvert_exporter": "python",
   "pygments_lexer": "ipython3",
   "version": "3.10.9"
  }
 },
 "nbformat": 4,
 "nbformat_minor": 5
}
