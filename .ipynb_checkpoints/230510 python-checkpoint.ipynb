{
 "cells": [
  {
   "cell_type": "code",
   "execution_count": 22,
   "id": "ff62799d",
   "metadata": {},
   "outputs": [
    {
     "name": "stdout",
     "output_type": "stream",
     "text": [
      "당신이 입력한 숫자 216\n",
      "3S 0B\n"
     ]
    }
   ],
   "source": [
    "#센세 풀이\n",
    "import requests as req\n",
    "res = req.get('http://ggoreb.com/quiz/baseball.txt')\n",
    "text = res.text\n",
    "#print(text)\n",
    "\n",
    "#초기화 아랫쪽 어딘가에서 사용할 변수\n",
    "strike=0\n",
    "ball=0\n",
    "out=0\n",
    "\n",
    "입력='216'\n",
    "if 입력[0]==text[0]:\n",
    "    strike+=1\n",
    "    #print('스트라이크')\n",
    "elif 입력[0] in text:\n",
    "    ball+=1\n",
    "    #print(\"볼\")\n",
    "else:\n",
    "    out+=1\n",
    "    #print('아웃')\n",
    "    \n",
    "if 입력[1]==text[1]:\n",
    "    strike+=1\n",
    "    #print('스트라이크')\n",
    "elif 입력[1] in text:\n",
    "    ball+=1\n",
    "    #print(\"볼\")\n",
    "else:\n",
    "    out+=1\n",
    "    #print('아웃')\n",
    "    \n",
    "if 입력[2]==text[2]:\n",
    "    strike+=1\n",
    "    #print('스트라이크')\n",
    "elif 입력[2] in text:\n",
    "    ball+=1\n",
    "    #print(\"볼\")\n",
    "else:\n",
    "    out+=1\n",
    "    #print('아웃')\n",
    "if out<3:    \n",
    "    print(f'당신이 입력한 숫자 {입력}')\n",
    "    print(f'{strike}S {ball}B')\n",
    "else:\n",
    "    print(\"아웃\")"
   ]
  },
  {
   "cell_type": "code",
   "execution_count": 26,
   "id": "3d7f4966",
   "metadata": {},
   "outputs": [
    {
     "name": "stdout",
     "output_type": "stream",
     "text": [
      "평년\n"
     ]
    }
   ],
   "source": [
    "#센세 문제\n",
    "\n",
    "year=2023\n",
    "if year%400==0:\n",
    "        print(\"윤년\")\n",
    "elif year%100==0:\n",
    "        print(\"평년\")\n",
    "elif year%4==0:\n",
    "        print(\"윤년\")\n",
    "else:\n",
    "        print(\"평년\")"
   ]
  },
  {
   "cell_type": "code",
   "execution_count": 34,
   "id": "ab50d47d",
   "metadata": {},
   "outputs": [
    {
     "name": "stdout",
     "output_type": "stream",
     "text": [
      "[2, 5]\n",
      "25\n",
      "13254\n",
      "124\n",
      "45231\n",
      "[4, 5, 2, 3, 1]\n"
     ]
    }
   ],
   "source": [
    "#센세문제 - 슬라이싱\n",
    "리스트=[1,3,2,5,4]\n",
    "문자='13254'\n",
    "print(리스트[2:4])\n",
    "print(문자[2:4])\n",
    "print(문자[:])\n",
    "print(문자[::2]) # (시작;끝;퐁당퐁당)\n",
    "print(문자[::-1]) #역순\n",
    "print(리스트[::-1])"
   ]
  },
  {
   "cell_type": "code",
   "execution_count": 47,
   "id": "76c52c84",
   "metadata": {},
   "outputs": [
    {
     "name": "stdout",
     "output_type": "stream",
     "text": [
      "짝수\n",
      "\n",
      " ==================== \n",
      "\n",
      "존재\n",
      "이수완료\n",
      "\n",
      " ==================== \n",
      "\n",
      "이수완료\n",
      "이수완료\n"
     ]
    }
   ],
   "source": [
    "#연습 문제\n",
    "num=122\n",
    "if num%2==1:\n",
    "    print(\"홀수\")\n",
    "else:\n",
    "    print('짝수')\n",
    "\n",
    "print('\\n',\"=\"*20,'\\n')\n",
    "subject = { '자료구조': 80, '알고리즘': 60, '네트워크': 90 }\n",
    "#print(subject.get(\"자료구조\"))\n",
    "#print(subject.keys())\n",
    "#print(subject.values())\n",
    "if '자료구조' in subject.keys():\n",
    "    print(\"존재\")\n",
    "    if subject.get('자료구조')>=60:\n",
    "        print(\"이수완료\")\n",
    "    else:\n",
    "        print('재수강')\n",
    "else:\n",
    "    print(\"없음\")\n",
    "    \n",
    "\n",
    "#센세풀이- 센세피셜 #1이 더 효율적이다, 단, 길어지면 좀 그러므로 클린코드!에 입각\n",
    "print('\\n',\"=\"*20,'\\n')\n",
    "subject = { '자료구조': 80, '알고리즘': 60, '네트워크': 90 }\n",
    "#1\n",
    "if '자료구조' in subject and subject.get('자료구조')>=60:\n",
    "    print(\"이수완료\")\n",
    "else:\n",
    "    print('재수강')\n",
    " \n",
    "#2\n",
    "if '자료구조' in subject:\n",
    "    if subject.get('자료구조')>=60:\n",
    "        print(\"이수완료\")\n",
    "    else:\n",
    "        print('재수강')\n",
    "else:\n",
    "    print('재수강')\n"
   ]
  },
  {
   "cell_type": "code",
   "execution_count": 54,
   "id": "f2c88135",
   "metadata": {},
   "outputs": [
    {
     "name": "stdout",
     "output_type": "stream",
     "text": [
      "FAIL\n",
      "FAIL\n",
      "FAIL\n",
      "FAIL\n"
     ]
    }
   ],
   "source": [
    "#조건부\n",
    "#1\n",
    "score = 40\n",
    "if score >= 60:\n",
    "    print('PASS')\n",
    "else:\n",
    "    print('FAIL')\n",
    "\n",
    "#2\n",
    "score = 40\n",
    "print('PASS' if score >= 60 else 'FAIL') # 처음 보는 방식<<< elif 사용불가\n",
    "\n",
    "#3\n",
    "score = 40\n",
    "if score >= 60:\n",
    "    msg = 'PASS'\n",
    "else:\n",
    "    msg = 'FAIL'\n",
    "    print(msg)\n",
    "#4\n",
    "score = 40\n",
    "msg = 'PASS' if score >= 60 else 'FAIL'\n",
    "print(msg)\n"
   ]
  },
  {
   "cell_type": "code",
   "execution_count": 64,
   "id": "e4a4acdf",
   "metadata": {},
   "outputs": [
    {
     "name": "stdout",
     "output_type": "stream",
     "text": [
      "1번 반복\n",
      "2번 반복\n",
      "3번 반복\n",
      "4번 반복\n",
      "5번 반복\n",
      "6번 반복\n",
      "7번 반복\n",
      "8번 반복\n",
      "9번 반복\n",
      "10번 반복\n",
      "10번 반복 후 종료\n",
      "\n",
      " ==================== \n",
      "\n",
      "추출된 숫자 : 9\n",
      "추출된 숫자 : 2\n",
      "추출된 숫자 : 7\n",
      "추출된 숫자 : 5\n",
      "\n",
      " ==================== \n",
      "\n",
      "==========\n",
      "1. 입력\n",
      "2. 출력\n",
      "3. 종료\n",
      "==========\n",
      "메뉴를 선택해주세요. > 3\n",
      "종료되었습니다.\n"
     ]
    }
   ],
   "source": [
    "#반복문\n",
    "count = 0\n",
    "while count < 10: #보통 10번 동작 시킬떄 10를 넣음, 1000번이면  <1000 이런느낌\n",
    "    count = count + 1\n",
    "    print(f'{count}번 반복')\n",
    "print(f'{count}번 반복 후 종료')\n",
    "\n",
    "print('\\n',\"=\"*20,'\\n')\n",
    "\n",
    "import random\n",
    "while True:\n",
    "    number = random.randint(1, 10)\n",
    "    print('추출된 숫자 : %d' % number)\n",
    "    if number == 5:\n",
    "        break\n",
    "        \n",
    "print('\\n',\"=\"*20,'\\n')\n",
    "\n",
    "while True:\n",
    "    print('=' * 10)\n",
    "    print('1. 입력')\n",
    "    print('2. 출력')\n",
    "    print('3. 종료')\n",
    "    print('=' * 10)\n",
    "    s = input('메뉴를 선택해주세요. > ')\n",
    "    if s == '3': break\n",
    "print('종료되었습니다.')"
   ]
  },
  {
   "cell_type": "code",
   "execution_count": 93,
   "id": "77ea17a2",
   "metadata": {},
   "outputs": [
    {
     "name": "stdout",
     "output_type": "stream",
     "text": [
      "합은 5050\n",
      "\n",
      " ==================== \n",
      "\n",
      "합은 4950\n",
      "\n",
      " ==================== \n",
      "\n",
      "합은 5050\n",
      "\n",
      " ==================== \n",
      "\n",
      "추출된 글자 : 2\n",
      "추출된 글자 : 1\n",
      "추출된 글자 : 1\n",
      "추출된 글자 : 2\n",
      "추출된 글자 : 3\n"
     ]
    }
   ],
   "source": [
    "#센세랑\n",
    "num=0\n",
    "total=0\n",
    "while num<100:\n",
    "    #print(num)\n",
    "    num+=1\n",
    "    total+=num\n",
    "print(f'합은 {total}')\n",
    "\n",
    "print('\\n',\"=\"*20,'\\n')\n",
    "\n",
    "num=1\n",
    "total=0\n",
    "while num<100:\n",
    "    #print(num)\n",
    "    total+=num\n",
    "    num+=1\n",
    "print(f'합은 {total}')\n",
    "\n",
    "print('\\n',\"=\"*20,'\\n')\n",
    "\n",
    "num=0\n",
    "total=0\n",
    "while 1:\n",
    "    #print(num)\n",
    "    num+=1\n",
    "    total+=num\n",
    "    if num==100:\n",
    "        break\n",
    "print(f'합은 {total}')\n",
    "v\n",
    "print('\\n',\"=\"*20,'\\n')\n",
    "\n",
    "import random as ran\n",
    "while 1:\n",
    "    number=ran.randint(1,6)\n",
    "    print(f'추출된 글자 : {number}')\n",
    "    if number==3:break"
   ]
  },
  {
   "cell_type": "code",
   "execution_count": 86,
   "id": "28f553fc",
   "metadata": {},
   "outputs": [
    {
     "name": "stdout",
     "output_type": "stream",
     "text": [
      "1\n",
      "3\n",
      "5\n",
      "7\n",
      "9\n",
      "\n",
      " ==================== \n",
      "\n",
      "3\n",
      "6\n",
      "9\n",
      "12\n",
      "15\n",
      "18\n",
      "21\n",
      "24\n",
      "27\n",
      "30\n",
      "33\n",
      "36\n",
      "39\n"
     ]
    }
   ],
   "source": [
    "#연습문제\n",
    "num = 0\n",
    "while num < 10:\n",
    "    num = num + 1\n",
    "    if num % 2 == 0: # 짝수 (2 로 나누어서 떨어지는 경우) )\n",
    "        continue # 반복문의 맨 위로 이동\n",
    "    print(num) # 홀수만 출력\n",
    "\n",
    "print('\\n',\"=\"*20,'\\n')\n",
    "\n",
    "num = 0\n",
    "while num < 40:\n",
    "    num = num + 1\n",
    "    if num % 3 != 0: # 3 의 배수가 아닌 경우\n",
    "        continue # 반복문의 맨 위로 이동\n",
    "    print(num) # 3 의 배수만 출력"
   ]
  },
  {
   "cell_type": "code",
   "execution_count": 74,
   "id": "466e03dd",
   "metadata": {},
   "outputs": [
    {
     "name": "stdout",
     "output_type": "stream",
     "text": [
      "500500\n"
     ]
    }
   ],
   "source": [
    "#연습문제\n",
    "num=0\n",
    "total=0\n",
    "while num<1000:\n",
    "    num+=1\n",
    "    total+=num\n",
    "print(total)"
   ]
  },
  {
   "cell_type": "code",
   "execution_count": null,
   "id": "b0068c79",
   "metadata": {},
   "outputs": [],
   "source": [
    "\n",
    "#센세 가위바위보 공식\n",
    "# 가위0 바위1 보2\n",
    "# 가위0 -> 보2 에게 이김\n",
    "# 바위1 -> 가위0 에게 이김\n",
    "# 보2 -> 바위 1에게 이김\n",
    "\n",
    "player=0\n",
    "com=1\n",
    "if (player+1)%3==com: #<<< 중요함\n",
    "    print('com 승')\n",
    "elif player == com:\n",
    "    print(\"비김\")\n",
    "else:\n",
    "    print(\"player 승\")"
   ]
  },
  {
   "cell_type": "code",
   "execution_count": 131,
   "id": "69c29b07",
   "metadata": {},
   "outputs": [
    {
     "name": "stdout",
     "output_type": "stream",
     "text": [
      "가위(0),바위(1),보(2)를 입력 : 0\n",
      "com 승\n",
      "이긴횟수 : 0, 진 횟수 : 1, 비긴 횟수 : 0\n",
      "====================\n",
      "가위(0),바위(1),보(2)를 입력 : 0\n",
      "비김\n",
      "이긴횟수 : 0, 진 횟수 : 1, 비긴 횟수 : 1\n",
      "====================\n",
      "가위(0),바위(1),보(2)를 입력 : 0\n",
      "com 승\n",
      "이긴횟수 : 0, 진 횟수 : 2, 비긴 횟수 : 1\n",
      "====================\n",
      "가위(0),바위(1),보(2)를 입력 : 0\n",
      "비김\n",
      "이긴횟수 : 0, 진 횟수 : 2, 비긴 횟수 : 2\n",
      "====================\n",
      "가위(0),바위(1),보(2)를 입력 : 0\n",
      "com 승\n",
      "이긴횟수 : 0, 진 횟수 : 3, 비긴 횟수 : 2\n",
      "====================\n",
      "가위(0),바위(1),보(2)를 입력 : 0\n",
      "비김\n",
      "이긴횟수 : 0, 진 횟수 : 3, 비긴 횟수 : 3\n",
      "====================\n",
      "가위(0),바위(1),보(2)를 입력 : 0\n",
      "com 승\n",
      "이긴횟수 : 0, 진 횟수 : 4, 비긴 횟수 : 3\n",
      "====================\n",
      "가위(0),바위(1),보(2)를 입력 : 0\n",
      "비김\n",
      "이긴횟수 : 0, 진 횟수 : 4, 비긴 횟수 : 4\n",
      "====================\n",
      "가위(0),바위(1),보(2)를 입력 : 0\n",
      "com 승\n",
      "이긴횟수 : 0, 진 횟수 : 5, 비긴 횟수 : 4\n",
      "====================\n",
      "가위(0),바위(1),보(2)를 입력 : 0\n",
      "com 승\n",
      "이긴횟수 : 0, 진 횟수 : 6, 비긴 횟수 : 4\n",
      "====================\n",
      "가위(0),바위(1),보(2)를 입력 : 0\n",
      "com 승\n",
      "이긴횟수 : 0, 진 횟수 : 7, 비긴 횟수 : 4\n",
      "====================\n",
      "가위(0),바위(1),보(2)를 입력 : 0\n",
      "비김\n",
      "이긴횟수 : 0, 진 횟수 : 7, 비긴 횟수 : 5\n",
      "====================\n",
      "가위(0),바위(1),보(2)를 입력 : 0\n",
      "player 승\n",
      "이긴횟수 : 1, 진 횟수 : 7, 비긴 횟수 : 5\n"
     ]
    }
   ],
   "source": [
    "## 센세 문제 가위바위보 만들기\n",
    "\n",
    "import random\n",
    "w=0\n",
    "l=0\n",
    "d=0\n",
    "count=0\n",
    "while 1:\n",
    "    com=random.randint(0,2)\n",
    "    player=int(input('가위(0),바위(1),보(2)를 입력 : '))\n",
    "    \n",
    "    \n",
    "    \n",
    "    if (player+1)%3==com: #<<< 중요함\n",
    "        print('com 승')\n",
    "        l+=1\n",
    "        print(f'이긴횟수 : {w}, 진 횟수 : {l}, 비긴 횟수 : {d}')\n",
    "        \n",
    "    elif player == com:\n",
    "        print(\"비김\")\n",
    "        d+=1\n",
    "        print(f'이긴횟수 : {w}, 진 횟수 : {l}, 비긴 횟수 : {d}')\n",
    "        \n",
    "    else:\n",
    "        print(\"player 승\")\n",
    "        w+=1\n",
    "        print(f'이긴횟수 : {w}, 진 횟수 : {l}, 비긴 횟수 : {d}')\n",
    "        \n",
    "        break\n",
    "    print(\"=\"*20)\n",
    "count=w+l+d\n",
    "print(f\"총 시도횟수는 {count}\")"
   ]
  },
  {
   "cell_type": "code",
   "execution_count": 155,
   "id": "c8c6aadf",
   "metadata": {},
   "outputs": [
    {
     "name": "stdout",
     "output_type": "stream",
     "text": [
      "가위(0),바위(1),보(2)를 입력 : 0\n",
      "비김\n",
      "이긴횟수 : 0, 진 횟수 : 0, 비긴 횟수 : 1\n",
      "====================\n",
      "가위(0),바위(1),보(2)를 입력 : ㅂ\n",
      "잘못된 입력입니다.\n",
      "가위,바위,보를 다시 입력 : 1\n",
      "com 승\n",
      "이긴횟수 : 0, 진 횟수 : 1, 비긴 횟수 : 1\n",
      "====================\n",
      "가위(0),바위(1),보(2)를 입력 : 2\n",
      "player 승\n",
      "이긴횟수 : 1, 진 횟수 : 1, 비긴 횟수 : 1\n",
      "=> 총 시도횟수는 3\n"
     ]
    }
   ],
   "source": [
    "#가위바위보 심화\n",
    "\n",
    "import random\n",
    "w=0\n",
    "l=0\n",
    "d=0\n",
    "count=0\n",
    "while 1:\n",
    "    com=random.randint(0,2)\n",
    "    player=input('가위(0),바위(1),보(2)를 입력 : ')\n",
    "\n",
    "    if player=='가위' or player=='0':\n",
    "        player=0\n",
    "    elif player=='바위'or player=='1':\n",
    "         player=1\n",
    "    elif player=='보' or player=='2':\n",
    "        player=2\n",
    "    else:\n",
    "        print('잘못된 입력입니다.')\n",
    "        player=input('가위,바위,보를 다시 입력 : ')\n",
    "    \n",
    "    \n",
    "    if (int(player)+1)%3==com: #<<< 중요함\n",
    "        print('com 승')\n",
    "        l+=1\n",
    "        print(f'이긴횟수 : {w}, 진 횟수 : {l}, 비긴 횟수 : {d}')\n",
    "        \n",
    "    elif int(player) == com:\n",
    "        print(\"비김\")\n",
    "        d+=1\n",
    "        print(f'이긴횟수 : {w}, 진 횟수 : {l}, 비긴 횟수 : {d}')\n",
    "        \n",
    "    else:\n",
    "        print(\"player 승\")\n",
    "        w+=1\n",
    "        print(f'이긴횟수 : {w}, 진 횟수 : {l}, 비긴 횟수 : {d}')\n",
    "        \n",
    "        break\n",
    "    print(\"=\"*20)\n",
    "count=w+l+d\n",
    "print(f\"=> 총 시도횟수는 {count}\")\n",
    "\n",
    "\n",
    "#어떤 분이한 딕셔너리를 확용\n",
    "#tabel={'가위':0,\"바위\":1,\"보\":2}\n",
    "#player=tabel.get(input())\n",
    "#이런방식으로 입력을 받으면 됨"
   ]
  },
  {
   "cell_type": "code",
   "execution_count": 181,
   "id": "4fde8a3e",
   "metadata": {},
   "outputs": [
    {
     "name": "stdout",
     "output_type": "stream",
     "text": [
      "3 13 23 30 31 32 33 34 35 36 37 38 39 43 53 63 73 83 93 \n",
      "3 이 들어간 수 19\n",
      "\n",
      " ==================== \n",
      "\n",
      "3 13 23 30 31 32 33 34 35 36 37 38 39 43 53 63 73 83 93 \n",
      "3 이 들어간 수 19\n",
      "\n",
      " ==================== \n",
      "\n",
      "3 13 23 30 31 32 33 34 35 36 37 38 39 43 53 63 73 83 93 \n",
      "개수 : 20\n"
     ]
    }
   ],
   "source": [
    "#센세문제\n",
    "#1-100 숫자 3를 포함하고 있는숫자\n",
    "\n",
    "#1 strip이용\n",
    "a=0\n",
    "c=0\n",
    "while a<100:\n",
    "    a+=1\n",
    "    b=list(str(a).strip())\n",
    "    #print(b)\n",
    "    if '3' in b:\n",
    "        print(a,end=\" \")\n",
    "        c+=1\n",
    "print('\\n3 이 들어간 수',c)\n",
    "\n",
    "print('\\n',\"=\"*20,'\\n')\n",
    "\n",
    "#2 슬라이싱 이용\n",
    "a=0\n",
    "c=0\n",
    "while a<100:\n",
    "    a+=1\n",
    "    if str(a)[-1]=='3' or str(a)[0]=='3': \n",
    "        print(a,end=\" \")\n",
    "        c+=1\n",
    "print('\\n3 이 들어간 수',c)\n",
    "\n",
    "print('\\n',\"=\"*20,'\\n')\n",
    "\n",
    "#센세풀이\n",
    "n=0\n",
    "count=0\n",
    "while n<100:\n",
    "    n+=1\n",
    "    if '3' in str(n):\n",
    "        print(n, end=\" \")\n",
    "        count+=str(n).count('3') ## 33의 개수를 세기 위해서 '33'.count('3')를 한거 \n",
    "print(f'\\n개수 : {count}')"
   ]
  },
  {
   "cell_type": "code",
   "execution_count": 182,
   "id": "eb4c4711",
   "metadata": {},
   "outputs": [
    {
     "name": "stdout",
     "output_type": "stream",
     "text": [
      "숫자입력해주세요1 2\n"
     ]
    }
   ],
   "source": [
    "#센세 문제\n",
    "import random\n",
    "a,b=map(int,input('범위 숫자입력해주세요').split())\n",
    "c=random.randint(a,b)\n",
    "print"
   ]
  },
  {
   "cell_type": "code",
   "execution_count": 194,
   "id": "91788830",
   "metadata": {},
   "outputs": [
    {
     "name": "stdout",
     "output_type": "stream",
     "text": [
      "시작번호 :1\n",
      "마지막번호 :100\n",
      "시작번호 : 1, 마지막 번호 : 100\n",
      "카드번호를 입력하세요50\n",
      "범위밖 입력, 더 작은 수를 입력해주세요 \n",
      "카드번호를 입력하세요50\n",
      "범위밖 입력, 더 작은 수를 입력해주세요 \n",
      "카드번호를 입력하세요40\n",
      "범위밖 입력, 더 작은 수를 입력해주세요 \n",
      "카드번호를 입력하세요30\n",
      "범위밖 입력, 더 큰 수를 입력해주세요 \n",
      "카드번호를 입력하세요201\n",
      "범위밖 입력, 더 작은 수를 입력해주세요 \n",
      "카드번호를 입력하세요210\n",
      "범위밖 입력, 더 작은 수를 입력해주세요 \n"
     ]
    },
    {
     "ename": "KeyboardInterrupt",
     "evalue": "Interrupted by user",
     "output_type": "error",
     "traceback": [
      "\u001b[1;31m---------------------------------------------------------------------------\u001b[0m",
      "\u001b[1;31mKeyboardInterrupt\u001b[0m                         Traceback (most recent call last)",
      "Cell \u001b[1;32mIn[194], line 9\u001b[0m\n\u001b[0;32m      6\u001b[0m \u001b[38;5;28mprint\u001b[39m(\u001b[38;5;124mf\u001b[39m\u001b[38;5;124m'\u001b[39m\u001b[38;5;124m시작번호 : \u001b[39m\u001b[38;5;132;01m{\u001b[39;00m시작\u001b[38;5;132;01m}\u001b[39;00m\u001b[38;5;124m, 마지막 번호 : \u001b[39m\u001b[38;5;132;01m{\u001b[39;00m마지막\u001b[38;5;132;01m}\u001b[39;00m\u001b[38;5;124m'\u001b[39m)\n\u001b[0;32m      7\u001b[0m \u001b[38;5;28;01mwhile\u001b[39;00m \u001b[38;5;241m1\u001b[39m:\n\u001b[1;32m----> 9\u001b[0m     입력\u001b[38;5;241m=\u001b[39m\u001b[38;5;28mint\u001b[39m(\u001b[38;5;28;43minput\u001b[39;49m\u001b[43m(\u001b[49m\u001b[38;5;124;43m'\u001b[39;49m\u001b[38;5;124;43m카드번호를 입력하세요\u001b[39;49m\u001b[38;5;124;43m'\u001b[39;49m\u001b[43m)\u001b[49m)\n\u001b[0;32m     10\u001b[0m     \u001b[38;5;28;01mif\u001b[39;00m 입력\u001b[38;5;241m>\u001b[39m카드번호:\n\u001b[0;32m     11\u001b[0m         \u001b[38;5;28mprint\u001b[39m(\u001b[38;5;124m\"\u001b[39m\u001b[38;5;124m범위밖 입력, 더 작은 수를 입력해주세요 \u001b[39m\u001b[38;5;124m\"\u001b[39m)\n",
      "File \u001b[1;32m~\\anaconda3\\lib\\site-packages\\ipykernel\\kernelbase.py:1175\u001b[0m, in \u001b[0;36mKernel.raw_input\u001b[1;34m(self, prompt)\u001b[0m\n\u001b[0;32m   1171\u001b[0m \u001b[38;5;28;01mif\u001b[39;00m \u001b[38;5;129;01mnot\u001b[39;00m \u001b[38;5;28mself\u001b[39m\u001b[38;5;241m.\u001b[39m_allow_stdin:\n\u001b[0;32m   1172\u001b[0m     \u001b[38;5;28;01mraise\u001b[39;00m StdinNotImplementedError(\n\u001b[0;32m   1173\u001b[0m         \u001b[38;5;124m\"\u001b[39m\u001b[38;5;124mraw_input was called, but this frontend does not support input requests.\u001b[39m\u001b[38;5;124m\"\u001b[39m\n\u001b[0;32m   1174\u001b[0m     )\n\u001b[1;32m-> 1175\u001b[0m \u001b[38;5;28;01mreturn\u001b[39;00m \u001b[38;5;28;43mself\u001b[39;49m\u001b[38;5;241;43m.\u001b[39;49m\u001b[43m_input_request\u001b[49m\u001b[43m(\u001b[49m\n\u001b[0;32m   1176\u001b[0m \u001b[43m    \u001b[49m\u001b[38;5;28;43mstr\u001b[39;49m\u001b[43m(\u001b[49m\u001b[43mprompt\u001b[49m\u001b[43m)\u001b[49m\u001b[43m,\u001b[49m\n\u001b[0;32m   1177\u001b[0m \u001b[43m    \u001b[49m\u001b[38;5;28;43mself\u001b[39;49m\u001b[38;5;241;43m.\u001b[39;49m\u001b[43m_parent_ident\u001b[49m\u001b[43m[\u001b[49m\u001b[38;5;124;43m\"\u001b[39;49m\u001b[38;5;124;43mshell\u001b[39;49m\u001b[38;5;124;43m\"\u001b[39;49m\u001b[43m]\u001b[49m\u001b[43m,\u001b[49m\n\u001b[0;32m   1178\u001b[0m \u001b[43m    \u001b[49m\u001b[38;5;28;43mself\u001b[39;49m\u001b[38;5;241;43m.\u001b[39;49m\u001b[43mget_parent\u001b[49m\u001b[43m(\u001b[49m\u001b[38;5;124;43m\"\u001b[39;49m\u001b[38;5;124;43mshell\u001b[39;49m\u001b[38;5;124;43m\"\u001b[39;49m\u001b[43m)\u001b[49m\u001b[43m,\u001b[49m\n\u001b[0;32m   1179\u001b[0m \u001b[43m    \u001b[49m\u001b[43mpassword\u001b[49m\u001b[38;5;241;43m=\u001b[39;49m\u001b[38;5;28;43;01mFalse\u001b[39;49;00m\u001b[43m,\u001b[49m\n\u001b[0;32m   1180\u001b[0m \u001b[43m\u001b[49m\u001b[43m)\u001b[49m\n",
      "File \u001b[1;32m~\\anaconda3\\lib\\site-packages\\ipykernel\\kernelbase.py:1217\u001b[0m, in \u001b[0;36mKernel._input_request\u001b[1;34m(self, prompt, ident, parent, password)\u001b[0m\n\u001b[0;32m   1214\u001b[0m             \u001b[38;5;28;01mbreak\u001b[39;00m\n\u001b[0;32m   1215\u001b[0m \u001b[38;5;28;01mexcept\u001b[39;00m \u001b[38;5;167;01mKeyboardInterrupt\u001b[39;00m:\n\u001b[0;32m   1216\u001b[0m     \u001b[38;5;66;03m# re-raise KeyboardInterrupt, to truncate traceback\u001b[39;00m\n\u001b[1;32m-> 1217\u001b[0m     \u001b[38;5;28;01mraise\u001b[39;00m \u001b[38;5;167;01mKeyboardInterrupt\u001b[39;00m(\u001b[38;5;124m\"\u001b[39m\u001b[38;5;124mInterrupted by user\u001b[39m\u001b[38;5;124m\"\u001b[39m) \u001b[38;5;28;01mfrom\u001b[39;00m \u001b[38;5;28mNone\u001b[39m\n\u001b[0;32m   1218\u001b[0m \u001b[38;5;28;01mexcept\u001b[39;00m \u001b[38;5;167;01mException\u001b[39;00m:\n\u001b[0;32m   1219\u001b[0m     \u001b[38;5;28mself\u001b[39m\u001b[38;5;241m.\u001b[39mlog\u001b[38;5;241m.\u001b[39mwarning(\u001b[38;5;124m\"\u001b[39m\u001b[38;5;124mInvalid Message:\u001b[39m\u001b[38;5;124m\"\u001b[39m, exc_info\u001b[38;5;241m=\u001b[39m\u001b[38;5;28;01mTrue\u001b[39;00m)\n",
      "\u001b[1;31mKeyboardInterrupt\u001b[0m: Interrupted by user"
     ]
    }
   ],
   "source": [
    "# 센세랑\n",
    "import random\n",
    "시작= int(input('시작번호 :'))\n",
    "마지막= int(input('마지막번호 :'))\n",
    "카드번호=random.randint(시작,마지막)\n",
    "print(f'시작번호 : {시작}, 마지막 번호 : {마지막}')\n",
    "while 1:\n",
    "\n",
    "    입력=int(input('카드번호를 입력하세요'))\n",
    "    if 입력>카드번호:\n",
    "        print(\"범위밖 입력, 더 작은 수를 입력해주세요 \")\n",
    "        continue\n",
    "    elif 입력<카드번호 :\n",
    "        print(\"범위밖 입력, 더 큰 수를 입력해주세요 \")\n",
    "        continue\n",
    "        \n",
    "    if 입력 == 카드번호:\n",
    "        break\n",
    "        \n",
    "print(f'입력=> {입력},카드번호 => {카드번호}')"
   ]
  },
  {
   "cell_type": "code",
   "execution_count": 275,
   "id": "5eaf0e5a",
   "metadata": {},
   "outputs": [
    {
     "name": "stdout",
     "output_type": "stream",
     "text": [
      "현재 시도 횟수 : 1000000\n",
      "현재 시도 횟수 : 2000000\n",
      "현재 시도 횟수 : 3000000\n",
      "현재 시도 횟수 : 4000000\n",
      "현재 시도 횟수 : 5000000\n",
      "현재 시도 횟수 : 6000000\n",
      "현재 시도 횟수 : 7000000\n",
      "현재 시도 횟수 : 8000000\n",
      "현재 시도 횟수 : 9000000\n",
      "현재 시도 횟수 : 10000000\n",
      "현재 시도 횟수 : 11000000\n",
      "현재 시도 횟수 : 12000000\n",
      "현재 시도 횟수 : 13000000\n",
      "현재 시도 횟수 : 14000000\n",
      "현재 시도 횟수 : 15000000\n",
      "현재 시도 횟수 : 16000000\n",
      "현재 시도 횟수 : 17000000\n",
      "현재 시도 횟수 : 18000000\n",
      "현재 시도 횟수 : 19000000\n",
      "현재 시도 횟수 : 20000000\n"
     ]
    },
    {
     "ename": "KeyboardInterrupt",
     "evalue": "",
     "output_type": "error",
     "traceback": [
      "\u001b[1;31m---------------------------------------------------------------------------\u001b[0m",
      "\u001b[1;31mKeyboardInterrupt\u001b[0m                         Traceback (most recent call last)",
      "Cell \u001b[1;32mIn[275], line 14\u001b[0m\n\u001b[0;32m     12\u001b[0m 로또번호\u001b[38;5;241m=\u001b[39m\u001b[38;5;28mset\u001b[39m() \u001b[38;5;66;03m#set은 중복을 허용안함\u001b[39;00m\n\u001b[0;32m     13\u001b[0m \u001b[38;5;28;01mwhile\u001b[39;00m \u001b[38;5;241m1\u001b[39m:\n\u001b[1;32m---> 14\u001b[0m     로또번호\u001b[38;5;241m.\u001b[39madd(\u001b[43mrandom\u001b[49m\u001b[38;5;241;43m.\u001b[39;49m\u001b[43mrandint\u001b[49m\u001b[43m(\u001b[49m\u001b[38;5;241;43m1\u001b[39;49m\u001b[43m,\u001b[49m\u001b[38;5;241;43m45\u001b[39;49m\u001b[43m)\u001b[49m)\n\u001b[0;32m     15\u001b[0m     \u001b[38;5;28;01mif\u001b[39;00m \u001b[38;5;28mlen\u001b[39m(로또번호)\u001b[38;5;241m==\u001b[39m\u001b[38;5;241m6\u001b[39m:\n\u001b[0;32m     16\u001b[0m         \u001b[38;5;28;01mbreak\u001b[39;00m\n",
      "File \u001b[1;32m~\\anaconda3\\lib\\random.py:370\u001b[0m, in \u001b[0;36mRandom.randint\u001b[1;34m(self, a, b)\u001b[0m\n\u001b[0;32m    366\u001b[0m \u001b[38;5;28;01mdef\u001b[39;00m \u001b[38;5;21mrandint\u001b[39m(\u001b[38;5;28mself\u001b[39m, a, b):\n\u001b[0;32m    367\u001b[0m     \u001b[38;5;124;03m\"\"\"Return random integer in range [a, b], including both end points.\u001b[39;00m\n\u001b[0;32m    368\u001b[0m \u001b[38;5;124;03m    \"\"\"\u001b[39;00m\n\u001b[1;32m--> 370\u001b[0m     \u001b[38;5;28;01mreturn\u001b[39;00m \u001b[38;5;28;43mself\u001b[39;49m\u001b[38;5;241;43m.\u001b[39;49m\u001b[43mrandrange\u001b[49m\u001b[43m(\u001b[49m\u001b[43ma\u001b[49m\u001b[43m,\u001b[49m\u001b[43m \u001b[49m\u001b[43mb\u001b[49m\u001b[38;5;241;43m+\u001b[39;49m\u001b[38;5;241;43m1\u001b[39;49m\u001b[43m)\u001b[49m\n",
      "File \u001b[1;32m~\\anaconda3\\lib\\random.py:303\u001b[0m, in \u001b[0;36mRandom.randrange\u001b[1;34m(self, start, stop, step)\u001b[0m\n\u001b[0;32m    300\u001b[0m \u001b[38;5;66;03m# This code is a bit messy to make it fast for the\u001b[39;00m\n\u001b[0;32m    301\u001b[0m \u001b[38;5;66;03m# common case while still doing adequate error checking.\u001b[39;00m\n\u001b[0;32m    302\u001b[0m \u001b[38;5;28;01mtry\u001b[39;00m:\n\u001b[1;32m--> 303\u001b[0m     istart \u001b[38;5;241m=\u001b[39m \u001b[43m_index\u001b[49m\u001b[43m(\u001b[49m\u001b[43mstart\u001b[49m\u001b[43m)\u001b[49m\n\u001b[0;32m    304\u001b[0m \u001b[38;5;28;01mexcept\u001b[39;00m \u001b[38;5;167;01mTypeError\u001b[39;00m:\n\u001b[0;32m    305\u001b[0m     istart \u001b[38;5;241m=\u001b[39m \u001b[38;5;28mint\u001b[39m(start)\n",
      "\u001b[1;31mKeyboardInterrupt\u001b[0m: "
     ]
    }
   ],
   "source": [
    "#센세문제\n",
    "import random\n",
    "시도횟수=0\n",
    "당첨번호=[6,11,16,19,21,32]\n",
    "\n",
    "\n",
    "while 1:\n",
    "    시도횟수+=1\n",
    "    if 시도횟수%1000000==0:\n",
    "        print(f'현재 시도 횟수 : {시도횟수}')\n",
    "    \n",
    "    로또번호=set() #set은 중복을 허용안함\n",
    "    while 1:\n",
    "        로또번호.add(random.randint(1,45))\n",
    "        if len(로또번호)==6:\n",
    "            break\n",
    "    로또번호=list(로또번호)\n",
    "    로또번호.sort\n",
    "\n",
    "    if 로또번호==당첨번호:break\n",
    "print(시도횟수)"
   ]
  },
  {
   "cell_type": "code",
   "execution_count": 277,
   "id": "988f61a1",
   "metadata": {},
   "outputs": [
    {
     "name": "stdout",
     "output_type": "stream",
     "text": [
      "6\n"
     ]
    }
   ],
   "source": [
    "#센세 문제 그리디 알고리즘 기초\n",
    "#거스름돈 500/100/50/10 최소동전의 개수\n",
    "거스름돈=1260\n",
    "동전=0\n",
    "while 1:\n",
    "    if 거스름돈 - 500>=-0:\n",
    "        동전+=1\n",
    "        거스름돈-=500\n",
    "        \n",
    "    elif 거스름돈 - 100>=-0:\n",
    "        동전+=1\n",
    "        거스름돈-=100\n",
    "        \n",
    "    elif 거스름돈 - 50>=-0:\n",
    "        동전+=1\n",
    "        거스름돈-=50\n",
    "        \n",
    "    elif 거스름돈 - 10>=-0:\n",
    "        동전+=1\n",
    "        거스름돈-=10\n",
    "        \n",
    "    if 거스름돈==0:\n",
    "        break\n",
    "print(동전)\n",
    "\n"
   ]
  },
  {
   "cell_type": "code",
   "execution_count": 280,
   "id": "1a812b73",
   "metadata": {},
   "outputs": [
    {
     "name": "stdout",
     "output_type": "stream",
     "text": [
      "6\n",
      "\n",
      " ==================== \n",
      "\n",
      "6\n"
     ]
    }
   ],
   "source": [
    "#센세 문제 그리디 알고리즘 기초\n",
    "#거스름돈 500/100/50/10 최소동전의 개수\n",
    "#1\n",
    "거스름돈=1260\n",
    "동전=0\n",
    "while 1:\n",
    "    if 거스름돈 - 500>=-0:\n",
    "        거스름돈-=500\n",
    "        \n",
    "    elif 거스름돈 - 100>=-0:\n",
    "        거스름돈-=100\n",
    "        \n",
    "    elif 거스름돈 - 50>=-0:\n",
    "        거스름돈-=50\n",
    "        \n",
    "    elif 거스름돈 - 10>=-0:\n",
    "        거스름돈-=10\n",
    "    동전+=1 #중복되는 코드를 제거한 것임.\n",
    "    \n",
    "    \n",
    "    if 거스름돈==0:\n",
    "        break\n",
    "\n",
    "print(동전)\n",
    "\n",
    "\n",
    "print('\\n',\"=\"*20,'\\n')\n",
    "\n",
    "#2\n",
    "거스름돈=1260\n",
    "동전=0\n",
    "while 1:\n",
    "    if 거스름돈 - 500>=-0:\n",
    "        동전+=거스름돈//500\n",
    "        거스름돈%=500\n",
    "    elif 거스름돈 - 100>=-0:\n",
    "        동전+=거스름돈//100\n",
    "        거스름돈%=100\n",
    "    elif 거스름돈 - 50>=-0:\n",
    "        동전+=거스름돈//50\n",
    "        거스름돈%=50\n",
    "    elif 거스름돈 - 10>=-0:\n",
    "        동전+=거스름돈//10\n",
    "        거스름돈%=10\n",
    "\n",
    "    \n",
    "    \n",
    "    if 거스름돈==0:\n",
    "        break\n",
    "\n",
    "print(동전)"
   ]
  },
  {
   "cell_type": "code",
   "execution_count": 286,
   "id": "868dacd6",
   "metadata": {},
   "outputs": [
    {
     "name": "stdout",
     "output_type": "stream",
     "text": [
      "1\n",
      "3\n",
      "5\n",
      "7\n",
      "9\n",
      "====================\n",
      "1\n",
      "3\n",
      "5\n",
      "7\n",
      "9\n"
     ]
    }
   ],
   "source": [
    "#컨티뉴 안쓰기\n",
    "num = 0\n",
    "while num < 10:\n",
    "    num = num + 1\n",
    "    if num % 2 == 0: #짝수를 건너뛴다\n",
    "        continue \n",
    "    print(num) \n",
    "\n",
    "print(\"=\"*20)\n",
    "    \n",
    "num = 0\n",
    "while num < 10:\n",
    "    num = num + 1\n",
    "    if num % 2 == 1: #홀수에서 무언가를 실행\n",
    "        print(num) "
   ]
  },
  {
   "cell_type": "code",
   "execution_count": 290,
   "id": "00b3f70c",
   "metadata": {},
   "outputs": [
    {
     "name": "stdout",
     "output_type": "stream",
     "text": [
      "500500\n"
     ]
    }
   ],
   "source": [
    "num = 1\n",
    "total = 0\n",
    "while num<=1000:\n",
    "    total+=num\n",
    "    num+=1\n",
    "\n",
    "print(total)"
   ]
  },
  {
   "cell_type": "code",
   "execution_count": 300,
   "id": "684fbc25",
   "metadata": {},
   "outputs": [
    {
     "name": "stdout",
     "output_type": "stream",
     "text": [
      "a\n",
      "b\n",
      "c\n",
      "\n",
      " ==================== \n",
      "\n",
      "1 2\n",
      "3 4\n",
      "5 6\n",
      "(1, 2)\n",
      "(3, 4)\n",
      "(5, 6)\n",
      "\n",
      " ==================== \n",
      "\n",
      "1 2\n",
      "3 4\n",
      "5 6\n",
      "\n",
      " ==================== \n",
      "\n",
      "합계 368 점\n",
      "\n",
      " ==================== \n",
      "\n",
      "합계 368 점\n",
      "\n",
      " ==================== \n",
      "\n"
     ]
    }
   ],
   "source": [
    "#반복문 FOR\n",
    "data = { 'a': 1, 'b': 2, 'c': 3 }\n",
    "for item in data:\n",
    "    print(item) #키가 출력된다\n",
    "\n",
    "print(\"\\n\",'='*20,'\\n')\n",
    "\n",
    "data = [ (1, 2), (3, 4), (5, 6) ]\n",
    "for a, b in data:#변수를 여러개 쓰면 한방에 꺼낼 수 있음.\n",
    "    print(a, b)\n",
    "    \n",
    "for i in data:\n",
    "    print(i)\n",
    "\n",
    "print(\"\\n\",'='*20,'\\n')\n",
    "\n",
    "data = [ [1, 2], [3, 4], [5, 6] ]\n",
    "for a, b in data:\n",
    "    print(a, b)\n",
    "    \n",
    "print(\"\\n\",'='*20,'\\n')\n",
    "\n",
    "score = [ 90, 88, 54, 70, 66 ]\n",
    "total = 0\n",
    "for s in score:\n",
    "    total += s\n",
    "print('합계', total, '점')\n",
    "\n",
    "print(\"\\n\",'='*20,'\\n')\n",
    "\n",
    "score = [ 90, 88, 54, 70, 66 ]\n",
    "total = 0\n",
    "idx=0\n",
    "while idx<len(score):\n",
    "    value=score[idx]\n",
    "    total+=value\n",
    "    idx+=1\n",
    "print('합계', total, '점')\n",
    "print(\"\\n\",'='*20,'\\n')"
   ]
  },
  {
   "cell_type": "code",
   "execution_count": 304,
   "id": "f6ee218d",
   "metadata": {},
   "outputs": [
    {
     "name": "stdout",
     "output_type": "stream",
     "text": [
      "60점 미만 반복문 종료\n",
      "\n",
      " ==================== \n",
      "\n",
      "합격 66 점\n",
      "\n",
      " ==================== \n",
      "\n",
      "10 번째 반복\n",
      "9 번째 반복\n",
      "8 번째 반복\n",
      "7 번째 반복\n",
      "6 번째 반복\n",
      "5 번째 반복\n",
      "4 번째 반복\n",
      "3 번째 반복\n",
      "2 번째 반복\n",
      "1 번째 반복\n",
      "\n",
      " ==================== \n",
      "\n",
      "10 번째 반복\n",
      "9 번째 반복\n",
      "8 번째 반복\n",
      "7 번째 반복\n",
      "6 번째 반복\n",
      "5 번째 반복\n",
      "4 번째 반복\n",
      "3 번째 반복\n",
      "2 번째 반복\n",
      "1 번째 반복\n",
      "\n",
      " ==================== \n",
      "\n",
      "range(0, 10, 3)\n",
      "[0, 3, 6, 9]\n",
      "\n",
      " ==================== \n",
      "\n"
     ]
    }
   ],
   "source": [
    "#반복문 FOR - break & continue\n",
    "score = [ 90, 88, 54, 70, 66 ]\n",
    "for s in score:\n",
    "    if s < 60:\n",
    "        print('60점 미만 반복문 종료')\n",
    "        break\n",
    "\n",
    "\n",
    "print(\"\\n\",'='*20,'\\n')\n",
    "\n",
    "score = [ 90, 88, 54, 70, 66 ]\n",
    "for s in score:\n",
    "    if s < 60:\n",
    "        continue\n",
    "print('합격', s, '점')\n",
    "\n",
    "print(\"\\n\",'='*20,'\\n')\n",
    "\n",
    "# 역순1\n",
    "for idx in range(10, 0, -1):\n",
    "    print(idx, '번째 반복')\n",
    "\n",
    "\n",
    "print(\"\\n\",'='*20,'\\n')\n",
    "\n",
    "#역순2\n",
    "for idx in reversed(range(0, 10)):\n",
    "    print(idx + 1, '번째 반복')\n",
    "\n",
    "print(\"\\n\",'='*20,'\\n')\n",
    "\n",
    "print(range(0,10,3))#range는 혼자서도 사용가능\n",
    "print(list(range(0,10,3)))\n",
    "\n",
    "print(\"\\n\",'='*20,'\\n')"
   ]
  },
  {
   "cell_type": "code",
   "execution_count": null,
   "id": "72f85bc9",
   "metadata": {},
   "outputs": [],
   "source": [
    "#센세문제\n",
    "import requests\n",
    "res=requests.get('http://ggoreb.com/api/idol.jsp')\n",
    "#dict + list ==> json (자바스크립트 오브젝트 )\n",
    "data=res.json() # <-> res.text, res.content\n",
    "#print(data)\n",
    "for i in data:\n",
    "    a=i.get('name')\n",
    "    b=i.get('agency')\n",
    "    print(f'{a} ({b})')"
   ]
  },
  {
   "cell_type": "code",
   "execution_count": 353,
   "id": "c6ff156a",
   "metadata": {},
   "outputs": [
    {
     "name": "stdout",
     "output_type": "stream",
     "text": [
      "2 * 1 = 2\t3 * 1 = 3\t4 * 1 = 4\t5 * 1 = 5\t\n",
      "2 * 2 = 4\t3 * 2 = 6\t4 * 2 = 8\t5 * 2 = 10\t\n",
      "2 * 3 = 6\t3 * 3 = 9\t4 * 3 = 12\t5 * 3 = 15\t\n",
      "2 * 4 = 8\t3 * 4 = 12\t4 * 4 = 16\t5 * 4 = 20\t\n",
      "2 * 5 = 10\t3 * 5 = 15\t4 * 5 = 20\t5 * 5 = 25\t\n"
     ]
    }
   ],
   "source": [
    "#센세랑\n",
    "for a in range( 1, 6):\n",
    "    for b in range( 2, 6):\n",
    "        print(b, '*', a, '=', (a * b),end=\"\\t\") #\\t\n",
    "    print()"
   ]
  },
  {
   "cell_type": "code",
   "execution_count": 392,
   "id": "8c751a2d",
   "metadata": {
    "scrolled": true
   },
   "outputs": [
    {
     "name": "stdout",
     "output_type": "stream",
     "text": [
      "*        *\n",
      "**      **\n",
      "***    ***\n",
      "****  ****\n",
      "**********\n",
      "\n",
      "*\n",
      "**\n",
      "***\n",
      "****\n",
      "*****\n",
      "\n",
      "    *\n",
      "   **\n",
      "  ***\n",
      " ****\n",
      "*****\n",
      "\n",
      "    *\n",
      "   **\n",
      "  ***\n",
      " ****\n",
      "*****\n"
     ]
    }
   ],
   "source": [
    "#센세문제 반복문 2번\n",
    "a=5\n",
    "for i in range(1,a+1):\n",
    "    print(\"*\"*i,end=\"\")\n",
    "    print(\" \"*(a-i)*2,end=\"\")\n",
    "    print(\"*\"*i)\n",
    "\n",
    "print()\n",
    "\n",
    "# 센세버전\n",
    "for i in range(5):\n",
    "    for _ in range(i+1):\n",
    "        print(\"*\",end=\"\")\n",
    "    print()\n",
    "\n",
    "print()\n",
    "\n",
    "# 거꾸로 출력해보기\n",
    "#내 버전\n",
    "for i in range(5):\n",
    "    for j in range(5):\n",
    "        if 4-(j+i)>0:\n",
    "            print(\" \",end=\"\")\n",
    "        else:\n",
    "            print(\"*\",end=\"\")\n",
    "\n",
    "    print()\n",
    "    \n",
    "print()\n",
    "\n",
    "#센세버전\n",
    "space=0\n",
    "for row in range(5):\n",
    "    space=5-(row+1)\n",
    "    for col in range(5):\n",
    "        if space>col:\n",
    "            print(\" \",end=\"\")\n",
    "        else:\n",
    "            print(\"*\",end=\"\")\n",
    "\n",
    "    print()"
   ]
  },
  {
   "cell_type": "code",
   "execution_count": 409,
   "id": "dc67993f",
   "metadata": {},
   "outputs": [
    {
     "name": "stdout",
     "output_type": "stream",
     "text": [
      "{'안촉촉한': 6, '초코칩': 6, '나라에': 2, '살던': 1, '초코칩이': 4, '촉촉한': 8, '나라의': 2, '초코칩을': 1, '보고': 1, '되고': 1, '싶어서': 1, '갔는데': 1, '문지기가': 1, '넌': 1, '아니고': 1, '초코칩이니까': 1, '초코칩나라에서': 1, '살아': 1, '라고해서': 1, '초코칩은': 1, '되는': 1, '것을': 1, '포기하고': 1, '나라로': 1, '돌아갔다.': 1}\n"
     ]
    }
   ],
   "source": [
    "#센세문제 <<< 단어를 셀 때는 딕셔널\n",
    "text='안촉촉한 초코칩 나라에 살던 안촉촉한 초코칩이 촉촉한 초코칩 나라의 촉촉한 초코칩을 보고 촉촉한 초코칩이 되고 싶어서 촉촉한 초코칩 나라에 갔는데 촉촉한 초코칩 나라의 촉촉한 초코칩 문지기가 넌 촉촉한 초코칩이 아니고 안촉촉한 초코칩이니까 안촉촉한 초코칩나라에서 살아 라고해서 안촉촉한 초코칩은 촉촉한 초코칩이 되는 것을 포기하고 안촉촉한 초코칩 나라로 돌아갔다.'\n",
    "words=text.split(\" \")\n",
    "등장단어={}\n",
    "#print(words)\n",
    "for word in words:\n",
    "    if word in 등장단어:\n",
    "        등장단어[word]+=1\n",
    "    else:\n",
    "        등장단어[word]=1\n",
    "print(등장단어)"
   ]
  },
  {
   "cell_type": "code",
   "execution_count": 415,
   "id": "6afaeb3c",
   "metadata": {},
   "outputs": [
    {
     "name": "stdout",
     "output_type": "stream",
     "text": [
      "{'안촉촉한': 6, '초코칩': 6, '나라에': 2, '살던': 1, '초코칩이': 4, '촉촉한': 8, '나라의': 2, '초코칩을': 1, '보고': 1, '되고': 1, '싶어서': 1, '갔는데': 1, '문지기가': 1, '넌': 1, '아니고': 1, '초코칩이니까': 1, '초코칩나라에서': 1, '살아': 1, '라고해서': 1, '초코칩은': 1, '되는': 1, '것을': 1, '포기하고': 1, '나라로': 1, '돌아갔다.': 1}\n"
     ]
    }
   ],
   "source": [
    "import requests\n",
    "res=requests.get(\"http://ggoreb.com/dt/python/data/%EC%B4%88%EC%BD%94%EC%B9%A9%EB%8D%B0%EC%9D%B4%ED%84%B0.txt\")\n",
    "res.encoding = None # 'ms949' 'utf-8'\n",
    "text=res.text\n",
    "words=text.split(\" \")\n",
    "\n",
    "등장단어={}\n",
    "#print(words)\n",
    "for word in words:\n",
    "    if word in 등장단어:\n",
    "        등장단어[word]+=1\n",
    "    else:\n",
    "        등장단어[word]=1\n",
    "print(등장단어)\n",
    "\n"
   ]
  },
  {
   "cell_type": "code",
   "execution_count": 420,
   "id": "9b70ed9b",
   "metadata": {},
   "outputs": [
    {
     "name": "stdout",
     "output_type": "stream",
     "text": [
      "Counter({'촉촉한': 8, '안촉촉한': 6, '초코칩': 6, '초코칩이': 4, '나라에': 2, '나라의': 2, '살던': 1, '초코칩을': 1, '보고': 1, '되고': 1, '싶어서': 1, '갔는데': 1, '문지기가': 1, '넌': 1, '아니고': 1, '초코칩이니까': 1, '초코칩나라에서': 1, '살아': 1, '라고해서': 1, '초코칩은': 1, '되는': 1, '것을': 1, '포기하고': 1, '나라로': 1, '돌아갔다.': 1})\n",
      "\n",
      "['안촉촉한', '초코칩', '나라에', '살던', '초코칩이', '촉촉한', '나라의', '초코칩을', '보고', '되고', '싶어서', '갔는데', '문지기가', '넌', '아니고', '초코칩이니까', '초코칩나라에서', '살아', '라고해서', '초코칩은', '되는', '것을', '포기하고', '나라로', '돌아갔다.']\n",
      "\n",
      "{'안촉촉한': 6, '초코칩': 6, '나라에': 2, '살던': 1, '초코칩이': 4, '촉촉한': 8, '나라의': 2, '초코칩을': 1, '보고': 1, '되고': 1, '싶어서': 1, '갔는데': 1, '문지기가': 1, '넌': 1, '아니고': 1, '초코칩이니까': 1, '초코칩나라에서': 1, '살아': 1, '라고해서': 1, '초코칩은': 1, '되는': 1, '것을': 1, '포기하고': 1, '나라로': 1, '돌아갔다.': 1}\n"
     ]
    }
   ],
   "source": [
    "#개수를 세어주는 도구\n",
    "from collections import Counter # 정규방식\n",
    "#import collections.collections 초보방식\n",
    "\n",
    "text='안촉촉한 초코칩 나라에 살던 안촉촉한 초코칩이 촉촉한 초코칩 나라의 촉촉한 초코칩을 보고 촉촉한 초코칩이 되고 싶어서 촉촉한 초코칩 나라에 갔는데 촉촉한 초코칩 나라의 촉촉한 초코칩 문지기가 넌 촉촉한 초코칩이 아니고 안촉촉한 초코칩이니까 안촉촉한 초코칩나라에서 살아 라고해서 안촉촉한 초코칩은 촉촉한 초코칩이 되는 것을 포기하고 안촉촉한 초코칩 나라로 돌아갔다.'\n",
    "words=text.split(\" \")\n",
    "print(Counter(words))\n",
    "print()\n",
    "print(list(Counter(words)))\n",
    "print()\n",
    "print(dict(Counter(words)))\n",
    "\n"
   ]
  },
  {
   "cell_type": "code",
   "execution_count": 342,
   "id": "da00c992",
   "metadata": {},
   "outputs": [
    {
     "name": "stdout",
     "output_type": "stream",
     "text": [
      "((0, 1), (2, 3), (4, 5), (6, 7), (8, 9))\n"
     ]
    }
   ],
   "source": [
    "#연습문제\n",
    "a=[]\n",
    "for i in range(0,10,2):\n",
    "    a.append((i,i+1))\n",
    "a=tuple(a)\n",
    "print(a)\n",
    "\n",
    "  "
   ]
  },
  {
   "cell_type": "code",
   "execution_count": 426,
   "id": "da8bbd38",
   "metadata": {},
   "outputs": [
    {
     "name": "stdout",
     "output_type": "stream",
     "text": [
      "[3, 6, 9, 12]\n",
      "[6, 12]\n",
      "\n",
      "['안녕', '안녕', '안녕', '안녕', '안녕', '안녕', '안녕', '안녕', '안녕', '안녕']\n",
      "\n",
      "[40, 32, 26, 1, 16, 26]\n"
     ]
    }
   ],
   "source": [
    "#list comprehension  <<리스트를 편하게 만들어주는 방식\n",
    "#\n",
    "a = [1, 2, 3, 4]\n",
    "result = [n * 3 for n in a]\n",
    "print(result)\n",
    "\n",
    "\n",
    "# 조건문 추가가능\n",
    "a = [1, 2, 3, 4]\n",
    "result = [n * 3 for n in a if n % 2 == 0]\n",
    "print(result)\n",
    "\n",
    "print()\n",
    "\n",
    "\n",
    "#센세랑 같이\n",
    "qq=['안녕' for i in range(0,10)]\n",
    "print(qq)\n",
    "\n",
    "print()\n",
    "import random\n",
    "qq=[random.randint(1,45) for i in range(0,6)]\n",
    "print(qq)"
   ]
  },
  {
   "cell_type": "code",
   "execution_count": 439,
   "id": "09ff7472",
   "metadata": {},
   "outputs": [
    {
     "name": "stdout",
     "output_type": "stream",
     "text": [
      "{'경기 용인시 수지구': 202, '경기 용인시 처인구': 475, '경기 용인시 기흥구': 323}\n",
      "\n",
      "{'신변잡화-기타잡화': 1, '일반휴게음식-일반한식': 2, '사무통신-통신기기': 1, '학원-예•체능계학원': 1, '가구-기타가구': 53, '가구-일반가구': 316, '가구-철제가구': 3, '건강식품-기타건강식품': 166, '건강식품-인삼제품': 12, '건강식품-홍삼제품': 27, '건축자재-건축용 요업제품': 58, '건축자재-기타건축자재': 262, '건축자재-목재•석재•철물': 98}\n"
     ]
    }
   ],
   "source": [
    "import requests\n",
    "from collections import Counter\n",
    "res=requests.get('http://ggoreb.com/quiz/shop.jsp')\n",
    "data=res.json()\n",
    "a=data.get(\"list\")\n",
    "#print(data)\n",
    "bb=[]\n",
    "cc=[]\n",
    "for i in a:\n",
    "    b=str(i.get(\"address\"))[:10]\n",
    "    #print(b)\n",
    "    bb.append(b)\n",
    "    \n",
    "    c=i.get(\"kind\")\n",
    "    cc.append(c)\n",
    "    #print(c)\n",
    "print(dict(Counter(bb)))\n",
    "print()\n",
    "print(dict(Counter(cc)))\n"
   ]
  },
  {
   "cell_type": "code",
   "execution_count": 474,
   "id": "dd52626f",
   "metadata": {},
   "outputs": [
    {
     "name": "stdout",
     "output_type": "stream",
     "text": [
      "{'경기 용인시 수지구': 202, '경기 용인시 처인구': 475, '경기 용인시 기흥구': 323}\n",
      "['경기 용인시 수지구', '경기 용인시 처인구', '경기 용인시 기흥구']\n",
      "[202, 475, 323]\n",
      "\n",
      "{'신변잡화-기타잡화': 1, '일반휴게음식-일반한식': 2, '사무통신-통신기기': 1, '학원-예•체능계학원': 1, '가구-기타가구': 53, '가구-일반가구': 316, '가구-철제가구': 3, '건강식품-기타건강식품': 166, '건강식품-인삼제품': 12, '건강식품-홍삼제품': 27, '건축자재-건축용 요업제품': 58, '건축자재-기타건축자재': 262, '건축자재-목재•석재•철물': 98}\n"
     ]
    }
   ],
   "source": [
    "import requests\n",
    "from collections import Counter\n",
    "res=requests.get('http://ggoreb.com/quiz/shop.jsp')\n",
    "data=res.json()\n",
    "a=data.get(\"list\")\n",
    "#print(data)\n",
    "bb=[]\n",
    "cc=[]\n",
    "f=0\n",
    "for i in a:\n",
    "    \n",
    "    b=str(i.get(\"address\"))[:10]\n",
    "    bb.append(b)\n",
    "    c=i.get(\"kind\")\n",
    "    cc.append(c)\n",
    "    #print(c)\n",
    "#print(bb)\n",
    "\n",
    "bbb={}\n",
    "for i in bb:\n",
    "    if i in bbb:\n",
    "        bbb[i]+=1\n",
    "    else:\n",
    "        bbb[i]=1\n",
    "\n",
    "ccc={}\n",
    "for i in cc:\n",
    "    if i in ccc:\n",
    "        ccc[i]+=1\n",
    "    else:\n",
    "        ccc[i]=1\n",
    "        \n",
    "\n",
    "print(bbb)\n",
    "print(list(bbb.keys()))\n",
    "print(list(bbb.values()))\n",
    "\n",
    "print()\n",
    "print(ccc)"
   ]
  },
  {
   "cell_type": "code",
   "execution_count": 461,
   "id": "03c585a1",
   "metadata": {},
   "outputs": [],
   "source": [
    "#센세랑\n",
    "import requests\n",
    "from collections import Counter\n",
    "res=requests.get('http://ggoreb.com/quiz/shop.jsp')\n",
    "data=res.json()\n",
    "shop_list=data.get(\"list\")\n",
    "kind_list=[]\n",
    "for shop in shop_list:\n",
    "    kind= shop.get('kind')\n",
    "    kind_list.append(kind)"
   ]
  }
 ],
 "metadata": {
  "kernelspec": {
   "display_name": "Python 3 (ipykernel)",
   "language": "python",
   "name": "python3"
  },
  "language_info": {
   "codemirror_mode": {
    "name": "ipython",
    "version": 3
   },
   "file_extension": ".py",
   "mimetype": "text/x-python",
   "name": "python",
   "nbconvert_exporter": "python",
   "pygments_lexer": "ipython3",
   "version": "3.10.9"
  }
 },
 "nbformat": 4,
 "nbformat_minor": 5
}
