{
 "cells": [
  {
   "cell_type": "markdown",
   "id": "e28e4650-bbfc-4e39-b996-8a80dc671264",
   "metadata": {},
   "source": [
    "## 노트북 프로그램 만들기 (p346)"
   ]
  },
  {
   "cell_type": "markdown",
   "id": "2d3b3566-0ece-4485-b956-bea5a9d6275b",
   "metadata": {},
   "source": [
    "### 요구사항\n",
    "- 노트(note)를 정리하는 프로그램이다.\n",
    "- 사용자는 노트에 내용을 적을 수 있다.\n",
    "- 노트는 노트북(notebook)에 삽입된다.\n",
    "- 노트북은 제목(title)이 있다.\n",
    "- 노트북은 노트가 삽입될 때 페이지를 생성하며, 최대 300페이지까지 저장할 수 있다.\n",
    "- 300페이지를 넘기면 노트를 더이상 삽입하지 못한다."
   ]
  },
  {
   "cell_type": "markdown",
   "id": "5597e7f7-8c54-4c56-9aec-f208fe226756",
   "metadata": {},
   "source": [
    "<table border='1'>\n",
    "    <tr>\n",
    "        <th>구분</th><th>Notebook</th><th>Note</th>\n",
    "    </tr>\n",
    "    <tr>\n",
    "        <td>메서드</td>\n",
    "        <td>\n",
    "            add_note<br>\n",
    "            remove_note<br>\n",
    "            get_number_of_pages\n",
    "        </td>\n",
    "        <td>\n",
    "            write_content<br>\n",
    "            remove_all\n",
    "        </td>\n",
    "    </tr>\n",
    "    <tr>\n",
    "        <td>변수</td>\n",
    "        <td>\n",
    "            title<br>\n",
    "            page_number<br>\n",
    "            notes\n",
    "        </td>\n",
    "        <td>\n",
    "            contents\n",
    "        </td>\n",
    "    </tr>\n",
    "</table>"
   ]
  },
  {
   "cell_type": "markdown",
   "id": "106af1a0-1ea9-4439-a0d6-59822e5e1ae2",
   "metadata": {},
   "source": [
    "### Note 클래스"
   ]
  },
  {
   "cell_type": "code",
   "execution_count": null,
   "id": "6b0da940-fa6c-48a9-9319-2ca3c8ade30a",
   "metadata": {},
   "outputs": [],
   "source": [
    "class Note:\n",
    "    def __init__(self, contents=None):\n",
    "        self.contents = contents\n",
    "    def write_contents(self, contents):\n",
    "        self.contents = contents\n",
    "    def remove_all(self):\n",
    "        self.contents = ''\n",
    "    def __str__(self):\n",
    "        return self.contents"
   ]
  },
  {
   "cell_type": "markdown",
   "id": "343b3e29-85d6-4a9f-8a06-4c5f7f4949ba",
   "metadata": {},
   "source": [
    "### NoteBook 클래스"
   ]
  },
  {
   "cell_type": "code",
   "execution_count": null,
   "id": "44c695a9-b46e-4155-9ff3-4a4e5443e8de",
   "metadata": {},
   "outputs": [],
   "source": [
    "class NoteBook:\n",
    "    def __init__(self, title):\n",
    "        self.title = title\n",
    "        self.page_number = 1\n",
    "        self.notes = {}\n",
    "    def add_note(self, note, page=0):\n",
    "        if self.page_number < 300:\n",
    "            if page == 0:\n",
    "                self.notes[self.page_number] = note\n",
    "                self.page_number += 1\n",
    "            else:\n",
    "                self.notes = {page: note}\n",
    "                self.page_number += 1\n",
    "        else:\n",
    "            print('페이지가 모두 채워졌다.')\n",
    "    def remove_note(self, page_number):\n",
    "        if page_number in self.notes.keys():\n",
    "            return self.notes.pop(page_number)\n",
    "        else:\n",
    "            print('해당 페이지는 존재하지 않는다.')\n",
    "    def get_number_of_pages(self):\n",
    "        return len(self.notes.keys())"
   ]
  },
  {
   "cell_type": "code",
   "execution_count": null,
   "id": "022a7c29-77a2-4cda-86bb-8dedd1dd73f9",
   "metadata": {},
   "outputs": [],
   "source": [
    "text1 = '하루에 3시간을 걸으면 7년 후에 지구를 한바퀴 돌 수 있다.'\n",
    "text2 = '행복의 문이 하나 닫히면 다른 문이 열린다. 그러나 우리는 종종 닫힌 문을 멍하니 바라보다가 우리를 향해 열린 문을 보지 못하게 된다.'\n",
    "text3 = '계단을 밟아야 계단 위에 올라설수 있다.'\n",
    "text4 = '늦었다고 생각할 때가 정말 늦은 때다. 그러니 지금 당장 시작하라.'\n",
    "text5 = '젋어서 고생하면 골병든다.'"
   ]
  },
  {
   "cell_type": "markdown",
   "id": "0fa59e56-9243-4091-a802-14477442201d",
   "metadata": {},
   "source": [
    "#### 노트 생성하기"
   ]
  },
  {
   "cell_type": "code",
   "execution_count": null,
   "id": "1876bf67-940c-4fce-bf42-366446892c2f",
   "metadata": {},
   "outputs": [],
   "source": []
  },
  {
   "cell_type": "markdown",
   "id": "d6ed7a30-eed3-47db-bafb-36b39b23a43e",
   "metadata": {},
   "source": [
    "#### 노트북에 생성한 노트 추가하기"
   ]
  },
  {
   "cell_type": "code",
   "execution_count": null,
   "id": "86e07e91-fe76-4f3f-a8fa-75428b90357f",
   "metadata": {},
   "outputs": [],
   "source": []
  },
  {
   "cell_type": "markdown",
   "id": "181554c2-381e-4ac1-9b7f-43f6ef21d078",
   "metadata": {},
   "source": [
    "#### 페이지를 지정해서 노트를 추가할 때 이미 노트가 존재하고 있다면 메시지를 출력하기\n",
    "- ex) notebook.add_note(note1, 3) \n",
    "    - '해당 페이지에는 이미 노트가 존재합니다.'"
   ]
  },
  {
   "cell_type": "code",
   "execution_count": null,
   "id": "3e5d0433-3548-4e9a-b916-5656c5697549",
   "metadata": {},
   "outputs": [],
   "source": []
  },
  {
   "cell_type": "markdown",
   "id": "dd2d0732-bd58-41ea-913f-0f30a9a39886",
   "metadata": {},
   "source": [
    "#### 해당 페이지에 입력되어 있는 내용의 글자 수 출력하기\n",
    "- ex) get_length_of_character_in_page(1)\n",
    "    - 34"
   ]
  },
  {
   "cell_type": "code",
   "execution_count": null,
   "id": "9c195ee8-095f-40db-a790-5a399e453b6b",
   "metadata": {},
   "outputs": [],
   "source": []
  }
 ],
 "metadata": {
  "kernelspec": {
   "display_name": "Python 3 (ipykernel)",
   "language": "python",
   "name": "python3"
  },
  "language_info": {
   "codemirror_mode": {
    "name": "ipython",
    "version": 3
   },
   "file_extension": ".py",
   "mimetype": "text/x-python",
   "name": "python",
   "nbconvert_exporter": "python",
   "pygments_lexer": "ipython3",
   "version": "3.10.9"
  }
 },
 "nbformat": 4,
 "nbformat_minor": 5
}
