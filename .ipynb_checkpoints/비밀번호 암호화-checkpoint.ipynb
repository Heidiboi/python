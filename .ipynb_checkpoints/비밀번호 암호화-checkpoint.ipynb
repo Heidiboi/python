{
 "cells": [
  {
   "cell_type": "code",
   "execution_count": 1,
   "id": "143f6133",
   "metadata": {},
   "outputs": [
    {
     "name": "stdout",
     "output_type": "stream",
     "text": [
      "6b86b273ff34fce19d6b804eff5a3f5747ada4eaa22f1d49c01e52ddb7875b4b\n"
     ]
    }
   ],
   "source": [
    "pwd = '1'\n",
    "import hashlib #동일한 길이의 문자가 나옴.\n",
    "m = hashlib.sha256() #샤256 : secure harsh agorithm \n",
    "m.update(pwd.encode())\n",
    "print( m.hexdigest() ) # 입력한 값을 암호화 해서 나탠거"
   ]
  }
 ],
 "metadata": {
  "kernelspec": {
   "display_name": "Python 3 (ipykernel)",
   "language": "python",
   "name": "python3"
  },
  "language_info": {
   "codemirror_mode": {
    "name": "ipython",
    "version": 3
   },
   "file_extension": ".py",
   "mimetype": "text/x-python",
   "name": "python",
   "nbconvert_exporter": "python",
   "pygments_lexer": "ipython3",
   "version": "3.10.9"
  }
 },
 "nbformat": 4,
 "nbformat_minor": 5
}
