{
 "cells": [
  {
   "cell_type": "code",
   "execution_count": 27,
   "id": "8f72ab8f",
   "metadata": {},
   "outputs": [
    {
     "name": "stdout",
     "output_type": "stream",
     "text": [
      "equality"
     ]
    }
   ],
   "source": [
    "#센세 풀이\n",
    "import requests\n",
    "res=requests.get('http://ggoreb.com/quiz/special.html')\n",
    "res.encoding=None\n",
    "text=res.text\n",
    "idx=text.find('<!--')\n",
    "idx=text.find('<!--',idx+1)\n",
    "text=text[idx:]\n",
    "text2=text[idx+4:]\n",
    "#print(text)\n",
    "for t in text2:\n",
    "    if t>='a' and t<='z': ##사스가 센세 a,z작다가 사용가능함\n",
    "        print(t,end=\"\")\n",
    "        \n",
    "#센세 풀이\n",
    "import requests\n",
    "res=requests.get('http://ggoreb.com/quiz/special.html')\n",
    "res.encoding=None\n",
    "text=res.text\n",
    "idx=text.find('<!--')\n",
    "idx=text.find('<!--',idx+1)\n",
    "text=text[idx:]\n",
    "text2=text[idx+4:]\n",
    "before ='!@#$%^&*()_+-=[]{}>'\n",
    "after  ='                   ' #같은 개수만큼 띄어쓰기를 해줘야됨\n",
    "table=str.maketrans(before,after)\n",
    "result=text2.translate(table)\n",
    "print(result.replace(\" \",\"\").replace('\\n',\"\"))"
   ]
  },
  {
   "cell_type": "code",
   "execution_count": 20,
   "id": "ece36f57",
   "metadata": {},
   "outputs": [
    {
     "name": "stdout",
     "output_type": "stream",
     "text": [
      "equality\n"
     ]
    }
   ],
   "source": [
    "#센세 풀이\n",
    "import requests\n",
    "res=requests.get('http://ggoreb.com/quiz/special.html')\n",
    "res.encoding=None\n",
    "text=res.text\n",
    "idx=text.find('<!--')\n",
    "idx=text.find('<!--',idx+1)\n",
    "text=text[idx:]\n",
    "text2=text[idx+4:]\n",
    "before ='!@#$%^&*()_+-=[]{}>'\n",
    "after  ='                   ' #같은 개수만큼 띄어쓰기를 햐줘야됨\n",
    "table=str.maketrans(before,after)\n",
    "result=text2.translate(table)\n",
    "print(result.replace(\" \",\"\").replace('\\n',\"\"))"
   ]
  },
  {
   "cell_type": "code",
   "execution_count": 39,
   "id": "188d8930",
   "metadata": {},
   "outputs": [
    {
     "name": "stdout",
     "output_type": "stream",
     "text": [
      "7 7\n",
      "4 3\n"
     ]
    }
   ],
   "source": [
    "#센세풀이\n",
    "n=26\n",
    "k=3\n",
    "count=0\n",
    "loop=0\n",
    "while 1:\n",
    "    loop+=1\n",
    "    if n%k==0:\n",
    "        n//=k\n",
    "    else:\n",
    "        n-=1\n",
    "    count+=1\n",
    "    if n==1:break\n",
    "print(count,loop)\n",
    "\n",
    "#센세풀이2 : 루프횟수를 줄이는게 실력!\n",
    "n=7\n",
    "k=4\n",
    "count=0\n",
    "loop=0\n",
    "while 1:\n",
    "    loop+=1\n",
    "    if n%k==0:\n",
    "        n//=k\n",
    "        count+=1\n",
    "    else:\n",
    "        나머지=n%k #핵심코드\n",
    "        count+=나머지\n",
    "        n-=나머지\n",
    "    if n==0:\n",
    "        count-=1\n",
    "        break\n",
    "print(count,loop)\n",
    "\n"
   ]
  },
  {
   "cell_type": "code",
   "execution_count": 54,
   "id": "f3ad3ded",
   "metadata": {},
   "outputs": [
    {
     "name": "stdout",
     "output_type": "stream",
     "text": [
      "1000\n",
      "70 10 500\n",
      "None\n",
      "500\n",
      "오류\n"
     ]
    }
   ],
   "source": [
    "#변수의 유효변위에 관해, 센세랑\n",
    "#global 전역변수 이건 함수내 지역변수에 효과 없음 \n",
    "전역변수=1000\n",
    "def func(매개변수):\n",
    "    global 전역변수\n",
    "    지역변수=10\n",
    "    전역변수=500 #이름이 같은 지역변수\n",
    "    print(매개변수,지역변수,전역변수)\n",
    "try:\n",
    "    print(전역변수)\n",
    "    print(func(70))\n",
    "    print(전역변수)\n",
    "    print(매개변수,지역변수)\n",
    "    print(전역변수) #오류 이후는 출력이 되지 않는다\n",
    "except:\n",
    "    print('오류')\n",
    "    "
   ]
  },
  {
   "cell_type": "markdown",
   "id": "c51a238b",
   "metadata": {},
   "source": [
    "def a(): #d를 제일 호출했지만,a가 제일 빨리 마무리 됨\n",
    "    print(\"A!!!\")\n",
    "    print(abcd)\n",
    "def b():\n",
    "    a()\n",
    "    print('B!!!')\n",
    "def c():\n",
    "    b()\n",
    "    print('C!!!')\n",
    "def d():\n",
    "    c()\n",
    "    print('D!!!')\n",
    "d()\n"
   ]
  },
  {
   "cell_type": "code",
   "execution_count": 58,
   "id": "51f28ffb",
   "metadata": {},
   "outputs": [
    {
     "name": "stdout",
     "output_type": "stream",
     "text": [
      "30\n",
      "30\n"
     ]
    }
   ],
   "source": [
    "#람다 << 많이쓴다고 함.\n",
    "def plus(a, b):\n",
    "    return a + b\n",
    "result = plus(10, 20)\n",
    "print(result)\n",
    "\n",
    "plus = lambda a, b: a + b #def와 동일\n",
    "result = plus(10, 20)\n",
    "print(result)"
   ]
  },
  {
   "cell_type": "code",
   "execution_count": 74,
   "id": "f61bfecf",
   "metadata": {},
   "outputs": [
    {
     "name": "stdout",
     "output_type": "stream",
     "text": [
      "abcdefghijklmnopqrstuvwxyz\n",
      "\n",
      "['a', 'b', 'c', 'd', 'e', 'f', 'g', 'h', 'i', 'j', 'k', 'l', 'm', 'n', 'o', 'p', 'q', 'r', 's', 't', 'u', 'v', 'w', 'x', 'y', 'z']\n"
     ]
    }
   ],
   "source": [
    "#a-z 문자열생성하기\n",
    "#1 list comprehesion\n",
    "a=[chr(i) for i in range(ord('a'),ord('z')+1)]\n",
    "a=\"\".join(a)\n",
    "#극한으로 줄이기\n",
    "a=\"\".join([chr(i) for i in range(ord('a'),ord('z')+1)])\n",
    "print(a)\n",
    "\n",
    "print()\n",
    "#2 lamda\n",
    "a=[i for i in range(ord('a'),ord('z')+1)]\n",
    "a= list(map(lambda x: chr(x),a))\n",
    "#극한으로 줄이기\n",
    "a= list(map(lambda x: chr(x),[i for i in range(ord('a'),ord('z')+1)]))\n",
    "print(a)\n",
    "\n",
    "\n"
   ]
  },
  {
   "cell_type": "code",
   "execution_count": 77,
   "id": "300295ec",
   "metadata": {},
   "outputs": [
    {
     "name": "stdout",
     "output_type": "stream",
     "text": [
      "[6, 7, 8]\n"
     ]
    }
   ],
   "source": [
    "def myfunc(numbers):\n",
    "    result = []\n",
    "    for number in numbers:\n",
    "        if number > 5:\n",
    "            result.append(number)\n",
    "    return result\n",
    "result = myfunc([2, 3, 4, 5, 6, 7, 8])\n",
    "print(result)\n"
   ]
  },
  {
   "cell_type": "code",
   "execution_count": 93,
   "id": "59b22ed3",
   "metadata": {},
   "outputs": [
    {
     "name": "stdout",
     "output_type": "stream",
     "text": [
      "[6, 7, 8]\n",
      "[6, 7, 8]\n"
     ]
    }
   ],
   "source": [
    "a=[ i for i in range(2,9) if i>=6] # list comprehesion & if 문 함께 사용\n",
    "print(a) \n",
    "\n",
    "#람다와 함꼐 쓰기\n",
    "items=[2,3,4,5,6,7,8]\n",
    "myfunc=lambda numbers : [ i for i in numbers if i>5]\n",
    "print(myfunc(items))\n"
   ]
  },
  {
   "cell_type": "code",
   "execution_count": 104,
   "id": "b1c14faa",
   "metadata": {},
   "outputs": [
    {
     "name": "stdout",
     "output_type": "stream",
     "text": [
      "d\n",
      "d\n",
      "<class 'str'>\n",
      "1번째 2번째 3번째 4번째 5번째 6번째 7번째 8번째 9번째 10번째 "
     ]
    }
   ],
   "source": [
    "#입력\n",
    "text = input() #input은 전부 문자열로 받음\n",
    "print(text)\n",
    "print(type(text))\n",
    "\n",
    "for i in range(1, 11):\n",
    "    print(str(i) + '번째', end = ' ')"
   ]
  },
  {
   "cell_type": "code",
   "execution_count": 105,
   "id": "87df844e",
   "metadata": {},
   "outputs": [
    {
     "name": "stdout",
     "output_type": "stream",
     "text": [
      "*\n",
      "**\n",
      "***\n",
      "****\n",
      "*****\n",
      "    *\n",
      "   **\n",
      "  ***\n",
      " ****\n",
      "*****\n"
     ]
    }
   ],
   "source": [
    "#연습문제\n",
    "for i in range(1,6):\n",
    "    print('*'*(i))\n",
    "for i in reversed(range(1,6)):\n",
    "    print(' '*(i-1)+\"*\"*(6-i))\n",
    "    \n",
    "    "
   ]
  },
  {
   "cell_type": "code",
   "execution_count": 153,
   "id": "3b4feb58",
   "metadata": {},
   "outputs": [
    {
     "name": "stdout",
     "output_type": "stream",
     "text": [
      "1번째\n",
      "2번째\n",
      "3번째\n",
      "4번째\n",
      "5번째\n",
      "6번째\n",
      "7번째\n",
      "8번째\n",
      "\n",
      "2번째\n",
      "\n",
      "3번째\n",
      "\n",
      "4번째\n",
      "\n",
      "5번째\n",
      "\n",
      "6번째\n",
      "\n",
      "7번째\n",
      "\n",
      "8번째\n",
      "\n"
     ]
    }
   ],
   "source": [
    "#파일 다루기 ☆★♣\n",
    "# 파일객체=open(\"파일명\",\"모드\")\n",
    "#모드=r 읽기(기본값), w 쓰기, a 추가 \n",
    "#모드 상태 = t 텍스트모드, b바이너리(이진) 모드\n",
    "#파일 위치 지정방법\n",
    "#1. 절대경로 \n",
    "file=open(\"song.txt\")\n",
    "#print(file.read())\n",
    "file.close()\n",
    "file=open(\"주피터노트북 사용법.ipynb\",encoding='utf8')  #파일이 ANSI라서 인코딩\n",
    "#print(file.read())\n",
    "file.close()\n",
    "\n",
    "f=open('c://python/text.txt','rt',encoding=\"utf8\")\n",
    "text=f.read() #str로 가쟈옴\n",
    "f.close()\n",
    "print(text)\n",
    "#print(list(str(text)))\n",
    "\n",
    "f=open('c://python/text.txt','rt',encoding=\"utf8\")\n",
    "text=f.readline() #한줄씩 읽기 \n",
    "print(f.readline())\n",
    "\n",
    "\n",
    "f=open('c://python/text.txt','rt',encoding=\"utf8\")\n",
    "while 1:\n",
    "    text=f.readline()\n",
    "    if not text:break\n",
    "    print(text)\n",
    "    \n",
    "    \n",
    "f=open('c://python/text.txt','rt',encoding=\"utf8\")\n",
    "text=f.readlines() #리스트로 가져옴\n",
    "print(text)"
   ]
  },
  {
   "cell_type": "code",
   "execution_count": 155,
   "id": "cb18560f",
   "metadata": {},
   "outputs": [
    {
     "name": "stdout",
     "output_type": "stream",
     "text": [
      "['1번째\\n', '2번째\\n', '3번째\\n', '4번째\\n', '5번째\\n', '6번째\\n', '7번째\\n', '8번째\\n']\n"
     ]
    }
   ],
   "source": [
    "f=open('c://python/text.txt','rt',encoding=\"utf8\")\n",
    "text=f.readlines()\n",
    "print(text)"
   ]
  },
  {
   "cell_type": "code",
   "execution_count": 192,
   "id": "db57beba",
   "metadata": {},
   "outputs": [
    {
     "name": "stdout",
     "output_type": "stream",
     "text": [
      "141\n",
      "\n",
      "['python', 'kotlin', 'fortran']\n"
     ]
    }
   ],
   "source": [
    "#연습문제\n",
    "#1\n",
    "f=open(\"04_numbers_data.txt\")\n",
    "text=f.read()\n",
    "f.close()\n",
    "a=list(text)\n",
    "b=a.count('\\n')\n",
    "#print(a,b)\n",
    "for _ in range(b):\n",
    "    a.pop(a.index(\"\\n\"))\n",
    "a=list(map(int,a))\n",
    "#print(sum(a))#<< 틀림!\n",
    "\n",
    "#센세버전\n",
    "f=open(\"04_numbers_data.txt\")\n",
    "text=f.read()\n",
    "f.close()\n",
    "data=text.split('\\n') ##사스가 센세! \\n을 기준으로 끊어서 리스트로 만듬\n",
    "data2=[int(d) for d in data]\n",
    "#data2=list(map(int,data)) 내바잔\n",
    "#print(data2)\n",
    "print(sum(data2))\n",
    "\n",
    "print()\n",
    "#2\n",
    "f=open('04_text_data.txt')\n",
    "text=f.read()\n",
    "f.close()\n",
    "data=text.split('\\n')\n",
    "#print(data)\n",
    "data2= [ i for i in data if 't' in i]\n",
    "print(data2)"
   ]
  },
  {
   "cell_type": "code",
   "execution_count": 193,
   "id": "1592da5f",
   "metadata": {},
   "outputs": [],
   "source": [
    "#파일 쓰기 기존에 있는거면 원래꺼 삭제하고, 새로 만듬.. 추가할꺼면 추가모드\n",
    "file = open('write.txt', 'w',encoding='utf8')\n",
    "file.write('오렌지 바나나 포후 링고')\n",
    "file.close()"
   ]
  },
  {
   "cell_type": "code",
   "execution_count": 195,
   "id": "0e4bbfbc",
   "metadata": {},
   "outputs": [],
   "source": [
    "#\n",
    "#다운하는 방법 웹사이트 오른쪽클릭. 검사 복사한 링크\n",
    "import requests\n",
    "res=requests.get('https://search.pstatic.net/common/?src=http%3A%2F%2Fblogfiles.naver.net%2FMjAyMzAxMDZfMjIy%2FMDAxNjcyOTk2NzQ0NzY2.nCPtQEqQDczB9kQFwTD6-ywB2WDy9heHEGrDoI5CuU0g.oLWZyxXfDM-DNC6F_Gld6bieKQhGNQor4p0cpienYhIg.JPEG.zscczx%2F%25B9%25D9%25C0%25CC%25C4%25C3%25B7%25AF%25B7%25A2%25B5%25B9.jpg&type=a340')\n",
    "f=open(\"고양이.jpg\",'wb')\n",
    "f.write(res.content)\n",
    "f.close()\n",
    "\n"
   ]
  },
  {
   "cell_type": "code",
   "execution_count": null,
   "id": "2c867607",
   "metadata": {},
   "outputs": [],
   "source": [
    "#서울 기온 데이터\n"
   ]
  }
 ],
 "metadata": {
  "kernelspec": {
   "display_name": "Python 3 (ipykernel)",
   "language": "python",
   "name": "python3"
  },
  "language_info": {
   "codemirror_mode": {
    "name": "ipython",
    "version": 3
   },
   "file_extension": ".py",
   "mimetype": "text/x-python",
   "name": "python",
   "nbconvert_exporter": "python",
   "pygments_lexer": "ipython3",
   "version": "3.10.9"
  }
 },
 "nbformat": 4,
 "nbformat_minor": 5
}
