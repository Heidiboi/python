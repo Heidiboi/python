{
 "cells": [
  {
   "cell_type": "code",
   "execution_count": 5,
   "id": "91764266",
   "metadata": {},
   "outputs": [],
   "source": [
    "year = {\n",
    "    0: '시끄러운 또는 말 많은',\n",
    "    1: '푸른',\n",
    "    2: '어두운 -> 적색',\n",
    "    3: '조용한',\n",
    "    4: '웅크린',\n",
    "    5: '백색',\n",
    "    6: '지혜로운',\n",
    "    7: '용감한',\n",
    "    8: '날카로운',\n",
    "    9: '욕심많은'\n",
    "}\n",
    "\n",
    "month = {\n",
    "    1: '늑대', 2: '태양', 3: '양', 4: '매', \n",
    "    5: '황소', 6: '불꽃', 7: '나무', 8: '달빛', \n",
    "    9: '말', 10: '돼지', 11: '하늘', 12: '바람'\n",
    "}\n",
    "\n",
    "day = {\n",
    "    1: '와(과) 함께 춤을',\n",
    "    2: '의 기상',\n",
    "    3: '은(는) 그림자속에',\n",
    "    4: '',\n",
    "    5: '',\n",
    "    6: '',\n",
    "    7: '의 환생',\n",
    "    8: '의 죽음',\n",
    "    9: '의 아래에서',\n",
    "    10: '을(를) 보라',\n",
    "    11: '이(가) 노래하다',\n",
    "    12: '의 그늘 -> 그림자',\n",
    "    13: '의 일격',\n",
    "    14: '에게 쫓기는 남자',\n",
    "    15: '의 행진',\n",
    "    16: '의 왕',\n",
    "    17: '의 유령',\n",
    "    18: '을 죽인자',\n",
    "    19: '은(는) 맨날 잠 잔다',\n",
    "    20: '처럼',\n",
    "    21: '의 고향',\n",
    "    22: '의 전사',\n",
    "    23: '은(는) 나의 친구',\n",
    "    24: '의 노래',\n",
    "    25: '의 정령',\n",
    "    26: '의 파수꾼',\n",
    "    27: '의 악마',\n",
    "    28: '와(과) 같은 사나이',\n",
    "    29: '의 심판자 -> 을(를) 쓰러트린 자',\n",
    "    30: '의 혼',\n",
    "    31: '은(는) 말이 없다',\n",
    "}"
   ]
  },
  {
   "cell_type": "code",
   "execution_count": 6,
   "id": "c682057e",
   "metadata": {},
   "outputs": [
    {
     "name": "stdout",
     "output_type": "stream",
     "text": [
      "2023 5\n",
      "2023-05-09\n",
      "2023 05 09\n",
      "조용한 황소의 아래에서\n",
      "1996 02 29\n",
      "지혜로운 태양의 심판자 -> 을(를) 쓰러트린 자\n"
     ]
    }
   ],
   "source": [
    "#혼자놀기\n",
    "import datetime\n",
    "# print(datetime.datetime.now())\n",
    "\n",
    "# print(datetime.datetime)\n",
    "print(datetime.datetime.now().year,datetime.datetime.now().month)\n",
    "print(datetime.datetime.now().strftime('%Y-%m-%d'))\n",
    "birthday=datetime.datetime.now().strftime('%Y-%m-%d')\n",
    "y=birthday[:4]\n",
    "m=birthday[5:7]# 09를 int(09)==9와 같이 취급해줌 \n",
    "d=birthday[-2:]\n",
    "년=year.get(int(str(y)[-1]))\n",
    "월=month.get(int(m))\n",
    "일=day.get(int(d))\n",
    "print(y,m,d)\n",
    "print(f'{년} {월}{일}')\n",
    "\n",
    "\n",
    "d1,d2,d3=input().split()\n",
    "birthday=f\"{d1}-{d2}-{d3}\"#이런느낌으로\n",
    "y=birthday[:4]\n",
    "m=birthday[5:7]# 09를 int(09)==9와 같이 취급해줌 \n",
    "d=birthday[-2:]\n",
    "년=year.get(int(str(y)[-1]))\n",
    "월=month.get(int(m))\n",
    "일=day.get(int(d))\n",
    "#print(y,m,d)\n",
    "print(f'{년} {월}{일}')"
   ]
  }
 ],
 "metadata": {
  "kernelspec": {
   "display_name": "Python 3 (ipykernel)",
   "language": "python",
   "name": "python3"
  },
  "language_info": {
   "codemirror_mode": {
    "name": "ipython",
    "version": 3
   },
   "file_extension": ".py",
   "mimetype": "text/x-python",
   "name": "python",
   "nbconvert_exporter": "python",
   "pygments_lexer": "ipython3",
   "version": "3.10.9"
  }
 },
 "nbformat": 4,
 "nbformat_minor": 5
}
