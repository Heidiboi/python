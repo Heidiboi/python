{
 "cells": [
  {
   "cell_type": "code",
   "execution_count": 13,
   "id": "966dd222",
   "metadata": {},
   "outputs": [
    {
     "name": "stdout",
     "output_type": "stream",
     "text": [
      "1000000\n",
      "2000000\n",
      "3000000\n",
      "4000000\n",
      "5000000\n",
      "6000000\n",
      "7000000\n",
      "8000000\n",
      "9000000\n",
      "10000000\n",
      "[6, 11, 16, 19, 21, 32]\n",
      "10642767\n"
     ]
    }
   ],
   "source": [
    "#당첨번호랑 같은\n",
    "import random\n",
    "당첨번호=[6,11,16,19,21,32]\n",
    "번호모음=[]\n",
    "c=0\n",
    "while 1:\n",
    "    번호=random.randint(1,45)\n",
    "    if 번호 not in 번호모음:\n",
    "        번호모음.append(번호)\n",
    "    if len(번호모음)==6:\n",
    "        c+=1\n",
    "        if c%1000000==0:\n",
    "            print(c)\n",
    "        번호모음.sort()\n",
    "        if 당첨번호==번호모음:\n",
    "            break\n",
    "        else:\n",
    "            번호모음=[]\n",
    "        \n",
    "print(번호모음)\n",
    "print(c)"
   ]
  },
  {
   "cell_type": "code",
   "execution_count": 7,
   "id": "e4dedfe6",
   "metadata": {},
   "outputs": [
    {
     "name": "stdout",
     "output_type": "stream",
     "text": [
      "[10, 23, 25, 27, 30, 42]\n"
     ]
    }
   ],
   "source": [
    "#개 뽀기\n",
    "import random\n",
    "당첨번호=[6,11,16,19,21]\n",
    "번호모음=[]\n",
    "c=0\n",
    "while 1:\n",
    "    번호=random.randint(1,45)\n",
    "\n",
    "    if 번호 not in 번호모음:\n",
    "        번호모음.append(번호)\n",
    "        \n",
    "    if len(번호모음)==6:\n",
    "        c+=1\n",
    "        break\n",
    "\n",
    "        \n",
    "번호모음.sort()\n",
    "print(번호모음)"
   ]
  }
 ],
 "metadata": {
  "kernelspec": {
   "display_name": "Python 3 (ipykernel)",
   "language": "python",
   "name": "python3"
  },
  "language_info": {
   "codemirror_mode": {
    "name": "ipython",
    "version": 3
   },
   "file_extension": ".py",
   "mimetype": "text/x-python",
   "name": "python",
   "nbconvert_exporter": "python",
   "pygments_lexer": "ipython3",
   "version": "3.10.9"
  }
 },
 "nbformat": 4,
 "nbformat_minor": 5
}
