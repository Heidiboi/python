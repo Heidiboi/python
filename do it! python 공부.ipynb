{
 "cells": [
  {
   "cell_type": "code",
   "execution_count": null,
   "id": "b74031a2",
   "metadata": {},
   "outputs": [],
   "source": [
    "#그냥 실험 해봄\n",
    "#변수실험\n",
    "w,b=0,0\n",
    "print(w,b)"
   ]
  },
  {
   "cell_type": "code",
   "execution_count": 1,
   "id": "0cc91eaf",
   "metadata": {},
   "outputs": [
    {
     "name": "stdout",
     "output_type": "stream",
     "text": [
      "2\n",
      "c는 0입니다\n"
     ]
    }
   ],
   "source": [
    "x=1\n",
    "y=2\n",
    "c=0\n",
    "a=x if x>y else y\n",
    "print(a)\n",
    "print('c는 0입니다'if c==0 else 'c는 0이 아닙니다.')"
   ]
  },
  {
   "cell_type": "code",
   "execution_count": 2,
   "id": "1c6fc07e",
   "metadata": {},
   "outputs": [
    {
     "name": "stdout",
     "output_type": "stream",
     "text": [
      "5050\n"
     ]
    }
   ],
   "source": [
    "#가우스 덧셈 = 1부터 n까지의 합#for=시그마라서 일반해로 풀이한식임\n",
    "n=100\n",
    "sum=n*(n+1)//2\n",
    "print(sum)"
   ]
  },
  {
   "cell_type": "code",
   "execution_count": 3,
   "id": "094f018c",
   "metadata": {},
   "outputs": [
    {
     "name": "stdout",
     "output_type": "stream",
     "text": [
      "1\n",
      "3\n",
      "5\n",
      "7\n",
      "9\n"
     ]
    }
   ],
   "source": [
    "#range범위 \n",
    "#range(a,b,step)\n",
    "for i in range(1,10,2):\n",
    "    print(i)"
   ]
  },
  {
   "cell_type": "code",
   "execution_count": 5,
   "id": "8b5c2e3a",
   "metadata": {},
   "outputs": [
    {
     "name": "stdout",
     "output_type": "stream",
     "text": [
      "2 1\n"
     ]
    }
   ],
   "source": [
    "#a,b깂 바꿔치기\n",
    "a=1\n",
    "b=2\n",
    "(a,b)=(b,a)\n",
    "print(a,b)"
   ]
  },
  {
   "cell_type": "code",
   "execution_count": 7,
   "id": "ebef2f79",
   "metadata": {},
   "outputs": [
    {
     "name": "stdout",
     "output_type": "stream",
     "text": [
      "1\n",
      "1\n",
      "1\n",
      "1\n",
      "1\n"
     ]
    }
   ],
   "source": [
    "for i in range(10):\n",
    "    if i%2:\n",
    "        print(i%2)\n"
   ]
  },
  {
   "cell_type": "code",
   "execution_count": 10,
   "id": "ed92fd1b",
   "metadata": {},
   "outputs": [
    {
     "name": "stdout",
     "output_type": "stream",
     "text": [
      "*****\n",
      "*****\n",
      "****\n"
     ]
    }
   ],
   "source": [
    "\n",
    "n=int(14)\n",
    "w=int(5)\n",
    "for _ in range(n//w):\n",
    "    print(\"*\"*w)\n",
    "rest=n%w\n",
    "if rest:print(\"*\"*rest)"
   ]
  },
  {
   "cell_type": "code",
   "execution_count": null,
   "id": "0e0f44a2",
   "metadata": {},
   "outputs": [],
   "source": []
  }
 ],
 "metadata": {
  "kernelspec": {
   "display_name": "Python 3 (ipykernel)",
   "language": "python",
   "name": "python3"
  },
  "language_info": {
   "codemirror_mode": {
    "name": "ipython",
    "version": 3
   },
   "file_extension": ".py",
   "mimetype": "text/x-python",
   "name": "python",
   "nbconvert_exporter": "python",
   "pygments_lexer": "ipython3",
   "version": "3.10.9"
  }
 },
 "nbformat": 4,
 "nbformat_minor": 5
}
