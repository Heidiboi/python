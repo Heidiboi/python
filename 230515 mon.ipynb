{
 "cells": [
  {
   "cell_type": "code",
   "execution_count": 2,
   "id": "c4d6067e",
   "metadata": {},
   "outputs": [
    {
     "name": "stdout",
     "output_type": "stream",
     "text": [
      "100\n"
     ]
    }
   ],
   "source": [
    "상태=True\n",
    "\n",
    "변수=0\n",
    "if 상태:\n",
    "    변수=100 # 변수는 전역변수(if안에 들어간 변수는 전역변수)\n",
    "print(변수)"
   ]
  },
  {
   "cell_type": "code",
   "execution_count": 4,
   "id": "59b1781e",
   "metadata": {},
   "outputs": [
    {
     "data": {
      "text/plain": [
       "['ArithmeticError',\n",
       " 'AssertionError',\n",
       " 'AttributeError',\n",
       " 'BaseException',\n",
       " 'BlockingIOError',\n",
       " 'BrokenPipeError',\n",
       " 'BufferError',\n",
       " 'BytesWarning',\n",
       " 'ChildProcessError',\n",
       " 'ConnectionAbortedError',\n",
       " 'ConnectionError',\n",
       " 'ConnectionRefusedError',\n",
       " 'ConnectionResetError',\n",
       " 'DeprecationWarning',\n",
       " 'EOFError',\n",
       " 'Ellipsis',\n",
       " 'EncodingWarning',\n",
       " 'EnvironmentError',\n",
       " 'Exception',\n",
       " 'False',\n",
       " 'FileExistsError',\n",
       " 'FileNotFoundError',\n",
       " 'FloatingPointError',\n",
       " 'FutureWarning',\n",
       " 'GeneratorExit',\n",
       " 'IOError',\n",
       " 'ImportError',\n",
       " 'ImportWarning',\n",
       " 'IndentationError',\n",
       " 'IndexError',\n",
       " 'InterruptedError',\n",
       " 'IsADirectoryError',\n",
       " 'KeyError',\n",
       " 'KeyboardInterrupt',\n",
       " 'LookupError',\n",
       " 'MemoryError',\n",
       " 'ModuleNotFoundError',\n",
       " 'NameError',\n",
       " 'None',\n",
       " 'NotADirectoryError',\n",
       " 'NotImplemented',\n",
       " 'NotImplementedError',\n",
       " 'OSError',\n",
       " 'OverflowError',\n",
       " 'PendingDeprecationWarning',\n",
       " 'PermissionError',\n",
       " 'ProcessLookupError',\n",
       " 'RecursionError',\n",
       " 'ReferenceError',\n",
       " 'ResourceWarning',\n",
       " 'RuntimeError',\n",
       " 'RuntimeWarning',\n",
       " 'StopAsyncIteration',\n",
       " 'StopIteration',\n",
       " 'SyntaxError',\n",
       " 'SyntaxWarning',\n",
       " 'SystemError',\n",
       " 'SystemExit',\n",
       " 'TabError',\n",
       " 'TimeoutError',\n",
       " 'True',\n",
       " 'TypeError',\n",
       " 'UnboundLocalError',\n",
       " 'UnicodeDecodeError',\n",
       " 'UnicodeEncodeError',\n",
       " 'UnicodeError',\n",
       " 'UnicodeTranslateError',\n",
       " 'UnicodeWarning',\n",
       " 'UserWarning',\n",
       " 'ValueError',\n",
       " 'Warning',\n",
       " 'WindowsError',\n",
       " 'ZeroDivisionError',\n",
       " '__IPYTHON__',\n",
       " '__build_class__',\n",
       " '__debug__',\n",
       " '__doc__',\n",
       " '__import__',\n",
       " '__loader__',\n",
       " '__name__',\n",
       " '__package__',\n",
       " '__spec__',\n",
       " 'abs',\n",
       " 'aiter',\n",
       " 'all',\n",
       " 'anext',\n",
       " 'any',\n",
       " 'ascii',\n",
       " 'bin',\n",
       " 'bool',\n",
       " 'breakpoint',\n",
       " 'bytearray',\n",
       " 'bytes',\n",
       " 'callable',\n",
       " 'chr',\n",
       " 'classmethod',\n",
       " 'compile',\n",
       " 'complex',\n",
       " 'copyright',\n",
       " 'credits',\n",
       " 'delattr',\n",
       " 'dict',\n",
       " 'dir',\n",
       " 'display',\n",
       " 'divmod',\n",
       " 'enumerate',\n",
       " 'eval',\n",
       " 'exec',\n",
       " 'execfile',\n",
       " 'filter',\n",
       " 'float',\n",
       " 'format',\n",
       " 'frozenset',\n",
       " 'get_ipython',\n",
       " 'getattr',\n",
       " 'globals',\n",
       " 'hasattr',\n",
       " 'hash',\n",
       " 'help',\n",
       " 'hex',\n",
       " 'id',\n",
       " 'input',\n",
       " 'int',\n",
       " 'isinstance',\n",
       " 'issubclass',\n",
       " 'iter',\n",
       " 'len',\n",
       " 'license',\n",
       " 'list',\n",
       " 'locals',\n",
       " 'map',\n",
       " 'max',\n",
       " 'memoryview',\n",
       " 'min',\n",
       " 'next',\n",
       " 'object',\n",
       " 'oct',\n",
       " 'open',\n",
       " 'ord',\n",
       " 'pow',\n",
       " 'print',\n",
       " 'property',\n",
       " 'range',\n",
       " 'repr',\n",
       " 'reversed',\n",
       " 'round',\n",
       " 'runfile',\n",
       " 'set',\n",
       " 'setattr',\n",
       " 'slice',\n",
       " 'sorted',\n",
       " 'staticmethod',\n",
       " 'str',\n",
       " 'sum',\n",
       " 'super',\n",
       " 'tuple',\n",
       " 'type',\n",
       " 'vars',\n",
       " 'zip']"
      ]
     },
     "execution_count": 4,
     "metadata": {},
     "output_type": "execute_result"
    }
   ],
   "source": [
    "#내장 함수목록\n",
    "dir(__builtins__) "
   ]
  },
  {
   "cell_type": "code",
   "execution_count": 15,
   "id": "c866a446",
   "metadata": {},
   "outputs": [
    {
     "name": "stdout",
     "output_type": "stream",
     "text": [
      "99999\n",
      "False\n",
      "True\n",
      "dx: 4 dy: 2\n",
      "컴파일 언어가 아닌 것은?\n",
      "1. C 2. C# 3. Python 4. swift => 3\n",
      "컴퓨터 장치가 아닌 것은?\n",
      "1. HDD 2. SDD 3. RAM 4. CPU => 2\n",
      "파이썬의 자료형이 아닌 것은?\n",
      "1. str 2. tuple 3. list 4. Map => 1\n",
      "제출 완료\n"
     ]
    }
   ],
   "source": [
    "#함수 사용1\n",
    "# 절대값 abs()\n",
    "print(abs(-99999))\n",
    "# 반복가능한 자료가 모두 참이면 True\n",
    "print(all([1, 2, 0]))\n",
    "print(all(['a', 'b', ' ']))\n",
    "#연습문제1\n",
    "# 그래프에 이동한 거리 Dx,dy를 구할 수 있는 함수 distance()\n",
    "def distance(start, end):\n",
    "    dx=end[0]-start[0]\n",
    "    dy=end[1]-start[1]\n",
    "    return abs(dx),abs(dy)\n",
    "start = (1, 1)\n",
    "end = (5, 3)\n",
    "dx, dy = distance(start, end)\n",
    "print('dx:', dx, 'dy:', dy)\n",
    "#연습문제2\n",
    "print('컴파일 언어가 아닌 것은?')\n",
    "answer1 = input('1. C 2. C# 3. Python 4. swift => ')\n",
    "print('컴퓨터 장치가 아닌 것은?')\n",
    "answer2 = input('1. HDD 2. SDD 3. RAM 4. CPU => ')\n",
    "print('파이썬의 자료형이 아닌 것은?')\n",
    "answer3 = input('1. str 2. tuple 3. list 4. Map => ')\n",
    "answer_list = list()\n",
    "answer_list.append(answer1)\n",
    "answer_list.append(answer2)\n",
    "answer_list.append(answer3)\n",
    "if all(answer_list):\n",
    "    print('제출 완료')\n",
    "else:\n",
    "    print('재입력')"
   ]
  },
  {
   "cell_type": "code",
   "execution_count": 14,
   "id": "3ee30b4c",
   "metadata": {},
   "outputs": [
    {
     "name": "stdout",
     "output_type": "stream",
     "text": [
      "True\n",
      "True\n",
      "['__add__', '__class__', '__class_getitem__', '__contains__', '__delattr__', '__delitem__', '__dir__', '__doc__', '__eq__', '__format__', '__ge__', '__getattribute__', '__getitem__', '__gt__', '__hash__', '__iadd__', '__imul__', '__init__', '__init_subclass__', '__iter__', '__le__', '__len__', '__lt__', '__mul__', '__ne__', '__new__', '__reduce__', '__reduce_ex__', '__repr__', '__reversed__', '__rmul__', '__setattr__', '__setitem__', '__sizeof__', '__str__', '__subclasshook__', 'append', 'clear', 'copy', 'count', 'extend', 'index', 'insert', 'pop', 'remove', 'reverse', 'sort']\n",
      "['__class__', '__delattr__', '__dict__', '__dir__', '__doc__', '__eq__', '__format__', '__ge__', '__getattribute__', '__gt__', '__hash__', '__init__', '__init_subclass__', '__le__', '__lt__', '__module__', '__ne__', '__new__', '__reduce__', '__reduce_ex__', '__repr__', '__setattr__', '__sizeof__', '__str__', '__subclasshook__', '__weakref__', 'age', 'myFunc', 'name']\n",
      "(-5, 0)\n",
      "0 1\n",
      "1 2\n",
      "2 3\n",
      "몫 7\n",
      "나머지 11\n",
      "{1: 'a', 2: 'b', 3: 'c', 4: 'd', 5: 'e', 6: 'f', 7: 'g'}\n",
      "01 02 03 \n",
      "04 05 06 \n",
      "07 08 09 \n",
      "10 "
     ]
    }
   ],
   "source": [
    "#함수 사용2\n",
    "# iterable자료에서 하나라도 참이면 True 를 주는 any() <-> all()\n",
    "print(any([1, 2, 0]))\n",
    "print(any(('a', 'b', '')))\n",
    "\n",
    "# ord() <-> chd() 아스키 코드 변환\n",
    "\n",
    "# dir() 객체가 가지고 있는 변수와 함수를 돌려주는 함수\n",
    "print(dir([1, 2, 3]))\n",
    "class MyClass:\n",
    "    age = 10\n",
    "    name = 'ggoreb'\n",
    "    def myFunc():\n",
    "        return age\n",
    "print(dir(MyClass))\n",
    "\n",
    "#divmod() 몫,나머지\n",
    "print(divmod(-10, 2))\n",
    "\n",
    "#iterable 인데스와 요소를 반환 enumerate)() <<<< 센세가 기억하라함\n",
    "for i, e in enumerate({1: 'a', 2: 'b', 3: 'c'}): #i가 인덱스,e가 변수값\n",
    "    print(i, e)\n",
    "    \n",
    "#연습문제1\n",
    "a = 123\n",
    "b = 16\n",
    "quotient,remaind=divmod(a,b)\n",
    "print('몫', quotient)\n",
    "print('나머지', remaind)\n",
    "\n",
    "#연습문제2\n",
    "char_list = ['a', 'b', 'c', 'd', 'e', 'f', 'g']\n",
    "char_dict = {}\n",
    "# 코드 작성\n",
    "for i,e in enumerate(char_list):\n",
    "    char_dict[i+1]=char_list[i]\n",
    "print(char_dict)\n",
    "\n",
    "#센세랑\n",
    "items=range(1,11)\n",
    "for i,e in enumerate(items):\n",
    "    print(e,end=' ') if e>9 else print(f'0{e}',end=\" \") #조건부 표현식\n",
    "    if (i+1)%3==0:\n",
    "        print()"
   ]
  },
  {
   "cell_type": "code",
   "execution_count": 3,
   "id": "f42af39e",
   "metadata": {},
   "outputs": [
    {
     "name": "stdout",
     "output_type": "stream",
     "text": [
      "HELLO\n",
      "GGOREB\n"
     ]
    },
    {
     "data": {
      "text/plain": [
       "'GGOREB'"
      ]
     },
     "execution_count": 3,
     "metadata": {},
     "output_type": "execute_result"
    }
   ],
   "source": [
    "#센세랑 연습문제\n",
    "hexa_string1 = '48 45 4C 4C 4F'\n",
    "hexa_string2 = '47 47 4F 52 45 42'\n",
    "def show_hex_to_ch(hexa_string):\n",
    "    a=\"\".join([chr(int(i,16)) for i in list(hexa_string.split())])\n",
    "    print(a)\n",
    "    return a\n",
    "show_hex_to_ch(hexa_string1)\n",
    "show_hex_to_ch(hexa_string2)\n"
   ]
  },
  {
   "cell_type": "code",
   "execution_count": 28,
   "id": "a9aef9b1",
   "metadata": {},
   "outputs": [
    {
     "name": "stdout",
     "output_type": "stream",
     "text": [
      "3\n",
      "Hello Python\n",
      "True\n",
      "[1, 3, 8]\n",
      "[4, 8, 12, 16, 20]\n"
     ]
    }
   ],
   "source": [
    "#eval() : 문자열을 받고 코드로 실행, 뭔가 좋아보임 \n",
    "print(eval('1 + 2'))\n",
    "eval('print(\"Hello\", \"Python\")')\n",
    "print(eval('any([1, 2, 3, 4])'))\n",
    "#eval 센세랑\n",
    "score1=10\n",
    "score2=20\n",
    "score3=30\n",
    "eval('10+1000')\n",
    "\n",
    "#filter() : map이랑 비슷, 불 함수와 iterable자료를 입력받은 후 참만 돌려줌\n",
    "#필터 센세랑\n",
    "items=range(1,21)\n",
    "#filter(함수,items)\n",
    "list(filter(lambda x: x%7==0,items)) ## lambda와 함께 사용하면 매우 강력한 도구\n",
    "\n",
    "#연습문제\n",
    "num_list = [1, -2, 3, -5, 8, -3]\n",
    "print(list(filter(lambda x: x>0,num_list)))\n",
    "num_list = range(1, 21)\n",
    "print(list(filter(lambda x: x&3==0,num_list)))\n",
    "\n",
    "#hex() 10진수 -> 16진수 \n",
    "#id() 객체의 주소를 알려줌"
   ]
  },
  {
   "cell_type": "code",
   "execution_count": 41,
   "id": "60e8f111",
   "metadata": {},
   "outputs": [
    {
     "name": "stdout",
     "output_type": "stream",
     "text": [
      "0xff\n",
      "255\n",
      "255\n",
      "255\n",
      "1950306485872 1950306485152\n",
      "1950306112896 1950306117120\n",
      "1950187589680 1950187589680\n",
      "0xbe 0x42 0xcd\n"
     ]
    }
   ],
   "source": [
    "#센세랑\n",
    "#10 -16진수\n",
    "print(hex(255))\n",
    "#16->10진수\n",
    "s='ff'\n",
    "print(int(s,16))\n",
    "print(0xff)\n",
    "print(eval(f'0x{s}')) #eval를 통해 문장을 코드로 표현함\n",
    "\n",
    "#id() 고유한 값을 확인 = 주소\n",
    "s1='가'\n",
    "s2='가'\n",
    "print(id(s1),id(s2)) #다르다\n",
    "li1=[1,2,3]\n",
    "li2=[1,2,3]\n",
    "print(id(li1),id(li2)) #다르다\n",
    "n1=123\n",
    "n2=123\n",
    "print(id(n1),id(n2))# 숫자는 값이 같다\n",
    "red = 190\n",
    "green = 66\n",
    "blue = 205\n",
    "r,g,b=hex(red),hex(green),hex(blue)\n",
    "print(r, g, b)"
   ]
  },
  {
   "cell_type": "code",
   "execution_count": 115,
   "id": "ca7be52c",
   "metadata": {},
   "outputs": [
    {
     "data": {
      "text/plain": [
       "[10, -4, 23.24, -1.2]"
      ]
     },
     "execution_count": 115,
     "metadata": {},
     "output_type": "execute_result"
    }
   ],
   "source": [
    "result=list(filter(lambda x : (isinstance(x,int)or isinstance(x,float)) and not isinstance(x, bool), values))\n",
    "result"
   ]
  },
  {
   "cell_type": "code",
   "execution_count": 104,
   "id": "ba1f7acd",
   "metadata": {},
   "outputs": [
    {
     "name": "stdout",
     "output_type": "stream",
     "text": [
      "True\n",
      "<class '__main__.Car'>\n",
      "True\n",
      "True\n",
      "True\n",
      "True\n",
      "True\n",
      "True\n",
      "True\n",
      "True\n",
      "True\n",
      "False\n",
      "False float\n",
      "[10, -4, 23.24, -1.2]\n",
      "28.04\n",
      "28.04\n",
      "28.04\n"
     ]
    }
   ],
   "source": [
    "#센세랑 isinstance() 비슷한게 type()\n",
    "class Car: pass\n",
    "a = Car()\n",
    "print(isinstance(a, Car))\n",
    "print(type(a))\n",
    "a=10\n",
    "print(isinstance(a,int))\n",
    "b=False\n",
    "print(isinstance(b,bool))\n",
    "print(isinstance(b,int)) #False=0을 가져서 숫자가 맞다\n",
    "\n",
    "\n",
    "class Car: pass\n",
    "a = Car()\n",
    "print(isinstance(a, Car))\n",
    "class Taxi(Car): pass #상속이라는 개념, taxt는 car를 상속받음, 다형성\n",
    "b = Taxi()\n",
    "print(isinstance(b, Taxi))\n",
    "print(isinstance(b, Car))\n",
    "print(isinstance(10, int))\n",
    "print(isinstance(10.0, float))\n",
    "\n",
    "a={1:'3'}\n",
    "print(isinstance(a,dict))\n",
    "print(isinstance(a.keys(),dict))\n",
    "print(isinstance(10, float),'float')\n",
    "\n",
    "\n",
    "\n",
    "#연습문제1\n",
    "values = [10, 'a', True, {}, [], -4, 23.24, (1,), -1.2]\n",
    "result =0\n",
    "result=list(filter(lambda x : isinstance(x,int)or isinstance(x,float),\\\n",
    "                   list(filter(lambda x : not isinstance(x,bool),values))))\n",
    "print(result) # 28.04\n",
    "print(sum(list(result)))\n",
    "\n",
    "#print(sum(list(filter(lambda x : isinstance(x,int)or isinstance(x,float),\\\n",
    "#                   list(filter(lambda x : not isinstance(x,bool),values))))))\n",
    "\n",
    "\n",
    "\n",
    "#센세랑 연습문제<< 난 못품\n",
    "values = [10, 'a', True, {}, [], -4, 23.24, (1,), -1.2]\n",
    "result =0\n",
    "for i in values:\n",
    "    if (isinstance(i,int) or isinstance(i,float) )\\\n",
    "    and not isinstance(i,bool) :\n",
    "        # and가 우선순위가 높아서 ()를 쳐줘야함\n",
    "        result+=i\n",
    "print(result)"
   ]
  },
  {
   "cell_type": "code",
   "execution_count": 96,
   "id": "acd2644d",
   "metadata": {},
   "outputs": [
    {
     "name": "stdout",
     "output_type": "stream",
     "text": [
      "[1, 4, 9, 16, 25, 36, 49, 64, 81, 100, 121, 144, 169, 196, 225, 256, 289, 324, 361, 400]\n",
      "[1, 2, 3, 4, 5, 6, 7, 8, 9, 10, 11, 12, 13, 14, 15, 16, 17, 18, 19, 20]\n",
      "[3, 6, 9, 12]\n",
      "[3, 6, 9, 12]\n"
     ]
    }
   ],
   "source": [
    "# map : filter의 친구\n",
    "items= range(1,21)\n",
    "print(list(map(lambda x : x**2,items)))\n",
    "print(list(filter(lambda x : x**2,items)))\n",
    "\n",
    "#연습문제\n",
    "num_list = [1, 2, 3, 4]\n",
    "print(list(map(lambda x : x*3,num_list)))\n",
    "print([ i*3 for i in num_list])"
   ]
  },
  {
   "cell_type": "code",
   "execution_count": 92,
   "id": "176e4b5f",
   "metadata": {},
   "outputs": [
    {
     "name": "stdout",
     "output_type": "stream",
     "text": [
      "<map object at 0x000001C617325AE0>\n",
      "[True, True, True]\n"
     ]
    }
   ],
   "source": [
    "#센세랑 map의 이상한 경우\n",
    "items=[1,2,3]\n",
    "result=[]\n",
    "def 함수(x):\n",
    "    result.append(x) #코드가 잘못됨\n",
    "    return True\n",
    "map(함수,items)\n",
    "print(map(함수,items))\n",
    "print(list(map(함수,items)))\n"
   ]
  },
  {
   "cell_type": "code",
   "execution_count": 110,
   "id": "2cc676de",
   "metadata": {},
   "outputs": [
    {
     "name": "stdout",
     "output_type": "stream",
     "text": [
      "i\"hope\"you\"didnt\"tr{nsl{te\"it\"|y\"h{nd0\"th{ts\"wh{t\"computers\"{re\"for0\"doing\"it\"in\"|y\"h{nd\"is\"inefficient\"{nd\"th{t)s\"why\"this\"text\"is\"so\"long0\"using\"string0m{ketr{ns*+\"is\"recommended0\"now\"{pply\"on\"the\"url0\f",
      "\n",
      "i hope you didnt tr{nsl{te it |y h{nd. th{ts wh{t computers {re for. doing it in |y h{nd is inefficient {nd th{t's why this text is so long. using string.m{ketr{ns() is recommended. now {pply on the url.\n",
      "\n"
     ]
    }
   ],
   "source": [
    "text=\"\"\"g fmnc wms bgblr rpylqjyrc gr zw fylb. rfyrq ufyr amknsrcpq ypc dmp. bmgle gr gl zw fylb gq glcddgagclr ylb rfyr'q ufw rfgq rcvr gq qm jmle. sqgle qrpgle.kyicrpylq() gq pcamkkclbcb. lmu ynnjw ml rfc spj.\n",
    "\"\"\"\n",
    "print(\"\".join(list(map(lambda x : chr(ord(x)+2) ,text))))\n",
    "print(\"\".join(list(map(lambda x : chr(ord(x)+2) if 'a'<=x<='z' else x ,text))))\n"
   ]
  },
  {
   "cell_type": "code",
   "execution_count": 126,
   "id": "fb9e63b6",
   "metadata": {},
   "outputs": [
    {
     "name": "stdout",
     "output_type": "stream",
     "text": [
      "0o10\n",
      "4\n",
      "1024\n",
      "65 83 67 73 73 32 84 65 66 76 69\n",
      "80 89 84 72 79 78\n"
     ]
    },
    {
     "data": {
      "text/plain": [
       "[80, 89, 84, 72, 79, 78]"
      ]
     },
     "execution_count": 126,
     "metadata": {},
     "output_type": "execute_result"
    }
   ],
   "source": [
    "# 8진법  oct()\n",
    "print(oct(8))\n",
    "# pow(a,b) a**b를 출력. \n",
    "print(pow(2, 2))\n",
    "print(pow(2, 10)) \n",
    "#1024 * 1024 * 1 << 1MG표현방식\n",
    "\n",
    "\n",
    "#연습문제\n",
    "string1 = 'ASCII TABLE'\n",
    "string2 = 'PYTHON'\n",
    "def show_ch_to_ascii(string):\n",
    "    a=[(ord(i)) for i in string] #사스가 센세\n",
    "    print(*a)\n",
    "    return a\n",
    "show_ch_to_ascii(string1)\n",
    "show_ch_to_ascii(string2)"
   ]
  },
  {
   "cell_type": "code",
   "execution_count": 136,
   "id": "75e774dc",
   "metadata": {
    "scrolled": true
   },
   "outputs": [
    {
     "name": "stdout",
     "output_type": "stream",
     "text": [
      "7\n",
      "42\n",
      "최대공약수는 7\n",
      "최소공배수는 42\n"
     ]
    }
   ],
   "source": [
    "# 센세랑 최대공약수 구하기\n",
    "#1 함수 쓰기\n",
    "import math\n",
    "print(math.gcd(21,14))\n",
    "print(math.lcm(21,14))\n",
    "\n",
    "# for문을 이용\n",
    "#최대공약수\n",
    "n1=21\n",
    "n2=14\n",
    "for i in range(min(n1,n2),0,-1):\n",
    "    if n1%i==0 and n2%i==0:\n",
    "        print(f'최대공약수는 {i}')\n",
    "        break\n",
    "        \n",
    "##최소공배수\n",
    "n1=21\n",
    "n2=14\n",
    "i=0\n",
    "for i in range(max(n1,n2),n1*n2+1): #사스가 센세\n",
    "    if i%n1==0 and i%n2==0:\n",
    "        print(f'최소공배수는 {i}')\n",
    "        break"
   ]
  },
  {
   "cell_type": "code",
   "execution_count": 155,
   "id": "dbedbfc8",
   "metadata": {},
   "outputs": [
    {
     "name": "stdout",
     "output_type": "stream",
     "text": [
      "['h', 'n', 'o', 'p', 't', 'y']\n",
      "['y', 't', 'p', 'o', 'n', 'h']\n",
      "\n",
      "['a', 'b', 'c', 'd']\n",
      "dict_items([('a', 10), ('c', 5), ('b', 12), ('d', 1)])\n",
      "[('a', 10), ('b', 12), ('c', 5), ('d', 1)]\n",
      "[('d', 1), ('c', 5), ('a', 10), ('b', 12)]\n",
      "\n",
      "[('d', 1), ('c', 5), ('a', 10), ('b', 12)]\n",
      "[('b', 12), ('a', 10), ('c', 5), ('d', 1)]\n",
      "[(1, 'a', '가'), (2, 'b', '나'), (3, 'c', '다'), (4, 'd', '라')]\n",
      "\n",
      "[(25.4, 242.0), (26.3, 290.0), (26.5, 340.0), (29.0, 363.0), (29.0, 430.0), (29.7, 450.0), (29.7, 500.0), (30.0, 390.0), (30.0, 450.0), (30.7, 500.0), (31.0, 475.0), (31.0, 500.0), (31.5, 500.0), (32.0, 340.0), (32.0, 600.0), (32.0, 600.0), (33.0, 700.0), (33.0, 700.0), (33.5, 610.0), (33.5, 650.0), (34.0, 575.0), (34.0, 685.0), (34.5, 620.0), (35.0, 680.0), (35.0, 700.0), (35.0, 725.0), (35.0, 720.0), (36.0, 714.0), (36.0, 850.0), (37.0, 1000.0), (38.5, 920.0), (38.5, 955.0), (39.5, 925.0), (41.0, 975.0), (41.0, 950.0), (9.8, 6.7), (10.5, 7.5), (10.6, 7.0), (11.0, 9.7), (11.2, 9.8), (11.3, 8.7), (11.8, 10.0), (11.8, 9.9), (12.0, 9.8), (12.2, 12.2), (12.4, 13.4), (13.0, 12.2), (14.3, 19.7), (15.0, 19.9)]\n"
     ]
    }
   ],
   "source": [
    "#sort() 센세랑\n",
    "#아스키코드순으로 정렬해줌\n",
    "text='python'\n",
    "print(sorted(text))\n",
    "print(sorted(text,reverse=True))\n",
    "\n",
    "print()\n",
    "#딕셔너리에서  key sort\n",
    "d = { 'a': 10, 'c': 5, 'b': 12, 'd': 1 }\n",
    "print(sorted(d))\n",
    "print(d.items())\n",
    "print(sorted(d.items())) # key정렬\n",
    "print(sorted(d.items(),key=lambda x: x[1])) #외워야됨.value정렬, Counter와 함께가능\n",
    "\n",
    "\n",
    "print()\n",
    "#딕셔너리에서 value 정렬\n",
    "d = { 'a': 10, 'c': 5, 'b': 12, 'd': 1 }\n",
    "print(sorted(d.items(), key=lambda x: x[1]))\n",
    "print(sorted(d.items(), key=lambda x: x[1], reverse=True))\n",
    "\n",
    "#zip 리스트를 짝으로 튜플로 만들어줌로 만들어줌\n",
    "list1 = [1, 2, 3, 4]\n",
    "list2 = ['a', 'b', 'c', 'd']\n",
    "list3 = ['가', '나', '다', '라']\n",
    "print(list(zip(list1,list2,list3)))\n",
    "\n",
    "print()\n",
    "fish1_length = [\n",
    "25.4, 26.3, 26.5, 29.0, 29.0, 29.7, 29.7, 30.0, 30.0, 30.7,\n",
    "31.0, 31.0, 31.5, 32.0, 32.0, 32.0, 33.0, 33.0, 33.5, 33.5,\n",
    "34.0, 34.0, 34.5, 35.0, 35.0, 35.0, 35.0, 36.0, 36.0, 37.0,\n",
    "38.5, 38.5, 39.5, 41.0, 41.0\n",
    "]\n",
    "fish1_weight = [\n",
    "242.0, 290.0, 340.0, 363.0, 430.0, 450.0, 500.0, 390.0, 450.0,\n",
    "500.0, 475.0, 500.0, 500.0, 340.0, 600.0, 600.0, 700.0, 700.0,\n",
    "610.0, 650.0, 575.0, 685.0, 620.0, 680.0, 700.0, 725.0, 720.0,\n",
    "714.0, 850.0, 1000.0, 920.0, 955.0, 925.0, 975.0, 950.0\n",
    "]\n",
    "fish2_length = [\n",
    "9.8, 10.5, 10.6, 11.0, 11.2, 11.3, 11.8, 11.8, 12.0, 12.2,\n",
    "12.4, 13.0, 14.3, 15.0\n",
    "]\n",
    "fish2_weight = [\n",
    "6.7, 7.5, 7.0, 9.7, 9.8, 8.7, 10.0, 9.9, 9.8, 12.2,\n",
    "13.4, 12.2, 19.7, 19.9\n",
    "]\n",
    "length=fish1_length+fish2_length\n",
    "weight=fish1_weight+fish2_weight\n",
    "print(list(zip(length,weight)))"
   ]
  },
  {
   "cell_type": "code",
   "execution_count": 156,
   "id": "66c24cac",
   "metadata": {},
   "outputs": [
    {
     "data": {
      "text/plain": [
       "(array([1]), array([0]))"
      ]
     },
     "execution_count": 156,
     "metadata": {},
     "output_type": "execute_result"
    }
   ],
   "source": [
    "fish1_length = [\n",
    "25.4, 26.3, 26.5, 29.0, 29.0, 29.7, 29.7, 30.0, 30.0, 30.7,\n",
    "31.0, 31.0, 31.5, 32.0, 32.0, 32.0, 33.0, 33.0, 33.5, 33.5,\n",
    "34.0, 34.0, 34.5, 35.0, 35.0, 35.0, 35.0, 36.0, 36.0, 37.0,\n",
    "38.5, 38.5, 39.5, 41.0, 41.0\n",
    "]\n",
    "fish1_weight = [\n",
    "242.0, 290.0, 340.0, 363.0, 430.0, 450.0, 500.0, 390.0, 450.0,\n",
    "500.0, 475.0, 500.0, 500.0, 340.0, 600.0, 600.0, 700.0, 700.0,\n",
    "610.0, 650.0, 575.0, 685.0, 620.0, 680.0, 700.0, 725.0, 720.0,\n",
    "714.0, 850.0, 1000.0, 920.0, 955.0, 925.0, 975.0, 950.0\n",
    "]\n",
    "fish2_length = [\n",
    "9.8, 10.5, 10.6, 11.0, 11.2, 11.3, 11.8, 11.8, 12.0, 12.2,\n",
    "12.4, 13.0, 14.3, 15.0\n",
    "]\n",
    "fish2_weight = [\n",
    "6.7, 7.5, 7.0, 9.7, 9.8, 8.7, 10.0, 9.9, 9.8, 12.2,\n",
    "13.4, 12.2, 19.7, 19.9\n",
    "]\n",
    "length=fish1_length+fish2_length\n",
    "weight=fish1_weight+fish2_weight\n",
    "\n",
    "fish_data = [ [l, w] for l, w in zip(length, weight) ]\n",
    "fish_target = [1] * 35 + [0] * 14  # 정답 준비\n",
    "\n",
    "from sklearn.neighbors import KNeighborsClassifier\n",
    "kn = KNeighborsClassifier()\n",
    "kn.fit(fish_data, fish_target)\n",
    "\n",
    "kn.predict([[30, 600]]), kn.predict([[20, 150]])"
   ]
  },
  {
   "cell_type": "code",
   "execution_count": 164,
   "id": "c992ea38",
   "metadata": {},
   "outputs": [],
   "source": [
    "# 외장함수\n",
    "#import sys\n",
    "#print(sys.path())#좌표찾기\n",
    "\n",
    "import os\n",
    "os.getcwd() #현재 위치 \n",
    "os.makedirs('a/b/c') #폴더생성 mkdir: 폴더 1개만 만듬, makedirs 폴더 여러개를 만듬\n"
   ]
  },
  {
   "cell_type": "code",
   "execution_count": 171,
   "id": "6e937128",
   "metadata": {},
   "outputs": [],
   "source": [
    "#연습문제\n",
    "import os\n",
    "if not os.path.isdir('study/python_dir/a'):\n",
    "    os.makedirs('study/python_dir/a')\n",
    "    f=open('study/python_dir/a/a.txt','w')\n",
    "    f.close()\n",
    "if not os.path.isdir(\"study/python_dir/b\"): #이미 존재하면 만들지 않겠다\n",
    "    os.mkdir(\"study/python_dir/b\")#폴더만들기\n",
    "    f=open('study/python_dir/b/b.txt','w')#txt만들기\n",
    "    f.close()"
   ]
  },
  {
   "cell_type": "code",
   "execution_count": 172,
   "id": "e4ad8e71",
   "metadata": {},
   "outputs": [
    {
     "data": {
      "text/plain": [
       "'hosts'"
      ]
     },
     "execution_count": 172,
     "metadata": {},
     "output_type": "execute_result"
    }
   ],
   "source": [
    "#파일 복사 shutil.copy()\n",
    "import shutil\n",
    "import os\n",
    "shutil.copy('c:/Windows/System32/drivers/etc/hosts','hosts')"
   ]
  },
  {
   "cell_type": "code",
   "execution_count": 181,
   "id": "7f94ee6c",
   "metadata": {},
   "outputs": [
    {
     "name": "stdout",
     "output_type": "stream",
     "text": [
      "['study/python_dir/b\\\\b.txt']\n",
      "['study/python_dir/a\\\\a.txt']\n"
     ]
    }
   ],
   "source": [
    "import glob\n",
    "fileList = glob.glob('study/python_dir/b/*.txt')\n",
    "print(fileList)\n",
    "fileList = glob.glob('study/python_dir/a/*') #*를 사용하면 파일 전체가 나온다\n",
    "print(fileList)"
   ]
  },
  {
   "cell_type": "code",
   "execution_count": 191,
   "id": "2a5a53c7",
   "metadata": {},
   "outputs": [
    {
     "name": "stdout",
     "output_type": "stream",
     "text": [
      "04_numbers_data.txt\n",
      "04_text_data.txt\n",
      "song.txt\n",
      "text.txt\n",
      "write.txt\n"
     ]
    },
    {
     "ename": "UnicodeDecodeError",
     "evalue": "'cp949' codec can't decode byte 0xec in position 0: illegal multibyte sequence",
     "output_type": "error",
     "traceback": [
      "\u001b[1;31m---------------------------------------------------------------------------\u001b[0m",
      "\u001b[1;31mUnicodeDecodeError\u001b[0m                        Traceback (most recent call last)",
      "Cell \u001b[1;32mIn[191], line 10\u001b[0m\n\u001b[0;32m      8\u001b[0m \u001b[38;5;28;01mexcept\u001b[39;00m:\n\u001b[0;32m      9\u001b[0m     f\u001b[38;5;241m=\u001b[39m\u001b[38;5;28mopen\u001b[39m(file)\n\u001b[1;32m---> 10\u001b[0m text\u001b[38;5;241m=\u001b[39m\u001b[43mf\u001b[49m\u001b[38;5;241;43m.\u001b[39;49m\u001b[43mread\u001b[49m\u001b[43m(\u001b[49m\u001b[43m)\u001b[49m\n\u001b[0;32m     11\u001b[0m total\u001b[38;5;241m+\u001b[39m\u001b[38;5;241m=\u001b[39mtext\u001b[38;5;241m+\u001b[39m\u001b[38;5;124m'\u001b[39m\u001b[38;5;130;01m\\n\u001b[39;00m\u001b[38;5;124m'\u001b[39m\u001b[38;5;241m+\u001b[39m\u001b[38;5;124m'\u001b[39m\u001b[38;5;124m-\u001b[39m\u001b[38;5;124m'\u001b[39m\u001b[38;5;241m*\u001b[39m\u001b[38;5;241m10\u001b[39m\u001b[38;5;241m+\u001b[39m\u001b[38;5;124m'\u001b[39m\u001b[38;5;130;01m\\n\u001b[39;00m\u001b[38;5;124m'\u001b[39m\n\u001b[0;32m     12\u001b[0m f\u001b[38;5;241m.\u001b[39mclose()\n",
      "\u001b[1;31mUnicodeDecodeError\u001b[0m: 'cp949' codec can't decode byte 0xec in position 0: illegal multibyte sequence"
     ]
    }
   ],
   "source": [
    "import glob\n",
    "total=''\n",
    "files=glob.glob(\"*.txt\")\n",
    "for file in files:\n",
    "    print(file)\n",
    "    try:\n",
    "        f=open(file,endcoding='utf8')\n",
    "    except:\n",
    "        f=open(file)\n",
    "    text=f.read()\n",
    "    total+=text+'\\n'+'-'*10+'\\n'\n",
    "    f.close()\n",
    "print(total)"
   ]
  }
 ],
 "metadata": {
  "kernelspec": {
   "display_name": "Python 3 (ipykernel)",
   "language": "python",
   "name": "python3"
  },
  "language_info": {
   "codemirror_mode": {
    "name": "ipython",
    "version": 3
   },
   "file_extension": ".py",
   "mimetype": "text/x-python",
   "name": "python",
   "nbconvert_exporter": "python",
   "pygments_lexer": "ipython3",
   "version": "3.10.9"
  }
 },
 "nbformat": 4,
 "nbformat_minor": 5
}
