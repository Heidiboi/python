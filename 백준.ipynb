{
 "cells": [
  {
   "cell_type": "code",
   "execution_count": 2,
   "id": "de33eaf7",
   "metadata": {},
   "outputs": [
    {
     "name": "stdout",
     "output_type": "stream",
     "text": [
      "1 123\n",
      "123\n"
     ]
    }
   ],
   "source": [
    "\n",
    "import math\n",
    "#최소공배수\n",
    "a,b=map(int,input().split())\n",
    "print(math.lcm(a,b))\n",
    "#math.gcd() =>최소공약수"
   ]
  },
  {
   "cell_type": "code",
   "execution_count": 5,
   "id": "5d38c39a",
   "metadata": {},
   "outputs": [
    {
     "name": "stdout",
     "output_type": "stream",
     "text": [
      "3 5 9\n",
      "3\n"
     ]
    }
   ],
   "source": [
    "#2965 캥거루 3마리\n",
    "# 세마리는 서로 다른 좌표\n",
    "#  a b c 가 있을때, 한번 점프하면 b a c 와 같이 사이로 점프함\n",
    "# 최대 몇번 점프 가능할까?\n",
    "\n",
    "a=list(map(int,input().split()))\n",
    "b= abs(a[0]-a[1])\n",
    "c=abs(a[1]-a[2])\n",
    "takai=0\n",
    "if b<c:\n",
    "    takai=c-1\n",
    "else:\n",
    "    takai=b-1\n",
    "print(takai)"
   ]
  },
  {
   "cell_type": "code",
   "execution_count": 7,
   "id": "2629d07d",
   "metadata": {},
   "outputs": [
    {
     "name": "stdout",
     "output_type": "stream",
     "text": [
      "10000000\n",
      "7800000 9560000\n"
     ]
    }
   ],
   "source": [
    "#20492 세금\n",
    "# 1. 상금의 22% 국가에 납부\n",
    "# 2. 상금의 80%를 필요경비로 인정받으면, 20%중 22%만 제세공과금으로 납부\n",
    "tax=int(input())\n",
    "print(int(tax*(1-0.22)),int(tax-(tax*(1-0.8)*0.22)))\n"
   ]
  },
  {
   "cell_type": "code",
   "execution_count": 29,
   "id": "3275709a",
   "metadata": {},
   "outputs": [
    {
     "name": "stdout",
     "output_type": "stream",
     "text": [
      "5\n",
      "0 0\n",
      "0 1\n",
      "1 1\n",
      "3 -3\n",
      "2 2\n",
      "Q1: 2,\n",
      "Q2: 0\n",
      "Q3: 0\n",
      "Q4: 1\n",
      "AXIS: 2\n"
     ]
    }
   ],
   "source": [
    "### 9610 사분면\n",
    "#각 사분면과 축에 점이 몇개가 있는지 구하는 프로그램\n",
    "n=int(input())\n",
    "aa=[]\n",
    "qq1=0\n",
    "qq2=0\n",
    "qq3=0\n",
    "qq4=0\n",
    "axis=0\n",
    "for i in range(1,n+1):\n",
    "    aa.append(list(map(int,input().split())))\n",
    "    if aa[i-1][0]==0 or aa[i-1][1]==0:\n",
    "        axis+=1\n",
    "    elif aa[i-1][0]>0 and aa[i-1][1]>0:\n",
    "        qq1+=1\n",
    "    elif aa[i-1][0]<0 and aa[i-1][1]>0:\n",
    "        qq2+=1\n",
    "    elif aa[i-1][0]<0 and aa[i-1][1]<0:\n",
    "        qq3+=1\n",
    "    elif aa[i-1][0]>0 and aa[i-1][1]<0:\n",
    "        qq4+=1\n",
    "    \n",
    "#aa=[list(map(int,input().split())) for i in range(1,n+1)]#리스트 컴프리헨션\n",
    "\n",
    "\n",
    "\n",
    "print(f'Q1: {qq1}\\nQ2: {qq2}\\nQ3: {qq3}\\nQ4: {qq4}\\nAXIS: {axis}')"
   ]
  },
  {
   "cell_type": "code",
   "execution_count": 1,
   "id": "bde2bd9f",
   "metadata": {},
   "outputs": [
    {
     "name": "stdout",
     "output_type": "stream",
     "text": [
      "5\n",
      "27 35 92 75 42\n",
      "65\n"
     ]
    }
   ],
   "source": [
    "#15969 행복\n",
    "#가장 높은 점수와 낮은 점수를 구하기\n",
    "n=int(input())\n",
    "a=list(map(int,input().split()))\n",
    "a.sort()\n",
    "print(a[-1]-a[0])\n"
   ]
  },
  {
   "cell_type": "code",
   "execution_count": null,
   "id": "67b436a0",
   "metadata": {},
   "outputs": [],
   "source": [
    "#10707 수도요금\n",
    "#1: x사의 요금 \n",
    "#2: y사의 기본요금 \n",
    "#3 : y사의 기본요금 상한 \n",
    "#4 : y사의 추가요금 \n",
    "#5 : 한달가늬 수도양 \n",
    "a=[]\n",
    "for i in range(5):\n",
    "    a.append(int(input()))\n",
    "x=a[0]*a[-1]\n",
    "if a[-1]>a[2]:\n",
    "    dif=(a[-1]-a[2])*a[3]+a[1]\n",
    "else:\n",
    "    dif=a[1]\n",
    "y=dif\n",
    "if x>y:\n",
    "    print(y)\n",
    "else:\n",
    "    print(x)"
   ]
  },
  {
   "cell_type": "code",
   "execution_count": null,
   "id": "a1e6b481",
   "metadata": {},
   "outputs": [],
   "source": [
    "#11943 파일 옮기기\n",
    "#1: 링고 A 오렌지 B\n",
    "#2: 링고 c 오렌지 D\n",
    "#하나씩 집어서 한쪽에만 한종류만 있게\n",
    "a1,b1=map(int,input().split())\n",
    "a2,b2=map(int,input().split())\n",
    "dif1=a1+b2\n",
    "dif2=a2+b1\n",
    "if dif1>dif2:\n",
    "    print(dif2)\n",
    "elif dif1<dif2:\n",
    "    print(dif1)\n",
    "else:\n",
    "    print(dif1)\n"
   ]
  },
  {
   "cell_type": "code",
   "execution_count": null,
   "id": "d1cb7537",
   "metadata": {},
   "outputs": [],
   "source": [
    "#6749 Nest in line\n",
    "a=int(input())\n",
    "b=int(input())\n",
    "print(b+abs(a-b))\n"
   ]
  },
  {
   "cell_type": "code",
   "execution_count": null,
   "id": "b8468252",
   "metadata": {},
   "outputs": [],
   "source": [
    "#14652 나는 행복합니다~\n",
    "#잠실구장 세로 n 가로m 관중석 번호k\n",
    "a=list(map(int,input().split()))\n",
    "x=a[-1]//a[1]\n",
    "y=a[-1]%a[1]\n",
    "print(x,y)"
   ]
  },
  {
   "cell_type": "code",
   "execution_count": 3,
   "id": "636a6c9b",
   "metadata": {},
   "outputs": [
    {
     "name": "stdout",
     "output_type": "stream",
     "text": [
      "24 18\n",
      "6\n",
      "72\n"
     ]
    }
   ],
   "source": [
    "#2609 최대공약수,최소공배수\n",
    "import math\n",
    "A,B=map(int,input().split())\n",
    "print(math.gcd(A,B))\n",
    "print(math.lcm(A,B))\n"
   ]
  },
  {
   "cell_type": "code",
   "execution_count": 19,
   "id": "7a2de552",
   "metadata": {},
   "outputs": [
    {
     "name": "stdout",
     "output_type": "stream",
     "text": [
      "yeshowmuchiloveyoumydearmotherreallyicannotbelieveit\n",
      "yeaphowmuchiloveyoumydearmother\n",
      "howmuchiloveyoumydearmother\n",
      "YES\n"
     ]
    }
   ],
   "source": [
    "a=input()\n",
    "b=input()\n",
    "aw=input()\n",
    "if aw in a and b:\n",
    "    print('YES')\n",
    "else:\n",
    "    print('NO')"
   ]
  },
  {
   "cell_type": "code",
   "execution_count": 2,
   "id": "859e1559",
   "metadata": {},
   "outputs": [
    {
     "name": "stdout",
     "output_type": "stream",
     "text": [
      "5\n",
      "SK\n"
     ]
    }
   ],
   "source": [
    "#9655 돌 게임\n",
    "#1 or 3\n",
    "#상근 먼저. 칭영뒤\n",
    "#sk, cy\n",
    "n=int(input())\n",
    "aw=['SK',\"CY\"]\n",
    "count=0\n",
    "while 1:\n",
    "    if n>=3:\n",
    "        count+=n//3\n",
    "        n%=3\n",
    "        \n",
    "    if n==1:break"
   ]
  },
  {
   "cell_type": "code",
   "execution_count": 22,
   "id": "309c6c22",
   "metadata": {},
   "outputs": [
    {
     "name": "stdout",
     "output_type": "stream",
     "text": [
      "1010\n",
      "11\n",
      "11110\n"
     ]
    }
   ],
   "source": [
    "#14623 감정이입\n",
    "a=int(input(),2)\n",
    "b=int(input(),2)\n",
    "print(bin(a*b)[2:]) ### 이진법으로 변환하는 함수 bin()\n"
   ]
  },
  {
   "cell_type": "code",
   "execution_count": 19,
   "id": "211515a7",
   "metadata": {
    "scrolled": true
   },
   "outputs": [
    {
     "name": "stdout",
     "output_type": "stream",
     "text": [
      "1\n",
      "onlyonefile\n",
      "onlyonefile\n"
     ]
    }
   ],
   "source": [
    "#1032 명령 프롬프트\n",
    "n=int(input())\n",
    "st=[]\n",
    "pt=[]\n",
    "control_group=''\n",
    "for _ in range(n):\n",
    "    a=input()\n",
    "    pt.append(a)\n",
    "    if control_group ==\"\":\n",
    "        control_group=a\n",
    "    else:\n",
    "        st=[]\n",
    "        for i in range(len(a)):\n",
    "            if control_group[i]==a[i]:\n",
    "                st.append(a[i])\n",
    "            else:\n",
    "                st.append('?')\n",
    "if len(pt)==1:\n",
    "    print(\"\".join(pt))\n",
    "else:\n",
    "\n",
    "    for i in pt:\n",
    "        for j in range(len(i)):\n",
    "            if i[j]!=st[j]:\n",
    "                st[j]='?'\n",
    "    print(\"\".join(st))\n"
   ]
  },
  {
   "cell_type": "code",
   "execution_count": 45,
   "id": "1fa44186",
   "metadata": {},
   "outputs": [
    {
     "name": "stdout",
     "output_type": "stream",
     "text": [
      "55\n",
      "3\n"
     ]
    }
   ],
   "source": [
    "#1110 더하기 사이클\n",
    "a=input()\n",
    "p=a[:]\n",
    "count=0\n",
    "while 1:\n",
    "    count+=1\n",
    "    if len(str(a))==1:\n",
    "        a=str('0')+str(a)\n",
    "    b=(a[:])\n",
    "    #print(a)\n",
    "    a= int(str(b[0]))+int(str(b[1]))\n",
    "    a=str(a)\n",
    "    #print(a)\n",
    "    if len(str(a))==1:\n",
    "        a=str('0')+str(a)\n",
    "        a=str(a)\n",
    "    a=str(b[1])+str(a[1])\n",
    "    if int(a)==int(p):\n",
    "        break\n",
    "print(count)"
   ]
  },
  {
   "cell_type": "code",
   "execution_count": 90,
   "id": "bca765a2",
   "metadata": {
    "scrolled": true
   },
   "outputs": [
    {
     "name": "stdout",
     "output_type": "stream",
     "text": [
      "5 8\n",
      "....XXXX\n",
      "........\n",
      "XX.X.XX.\n",
      "........\n",
      "........\n",
      "['x', 'x', 0, 'x', 'x', 'x', 'x', 'x']\n",
      "1\n",
      "3\n"
     ]
    }
   ],
   "source": [
    "#1236 성지키기\n",
    "#모든 열/ 행에 한명이성\n",
    "\n",
    "a,b=input().split()\n",
    "b=[0]*int(b)\n",
    "count=0\n",
    "dd=[]\n",
    "for _ in range(int(a)):\n",
    "    a=input()\n",
    "    dd.append(dd)\n",
    "    for j in range(len(a)):\n",
    "        if 'X' in a[j]:\n",
    "            b[j]='x'\n",
    "    if 'X' in a:\n",
    "        continue\n",
    "    else:\n",
    "        count+=1\n",
    "#print(b)\n",
    "#print(b.count(0)) # 행\n",
    "#print(count)\n",
    "if b.count(0)< count:\n",
    "    print(count)\n",
    "else:\n",
    "    print(b.count(0))"
   ]
  },
  {
   "cell_type": "code",
   "execution_count": null,
   "id": "d17163c0",
   "metadata": {},
   "outputs": [],
   "source": [
    "#1259 팰린드롬수\n",
    "while 1:\n",
    "    a=input()\n",
    "    if a=='0':\n",
    "        break\n",
    "    if a==a[::-1]:\n",
    "        print('yes')\n",
    "    else:\n",
    "        print('no')"
   ]
  },
  {
   "cell_type": "code",
   "execution_count": 6,
   "id": "5b38c3c1",
   "metadata": {},
   "outputs": [
    {
     "name": "stdout",
     "output_type": "stream",
     "text": [
      "456 789\n",
      "6771\n"
     ]
    }
   ],
   "source": [
    "#1357 뒤집힌 덧셈\n",
    "a,b=map(int,(input().split()))\n",
    "a=int(str(a)[::-1])\n",
    "b=int(str(b)[::-1])\n",
    "print(int(str(a+b)[::-1]))"
   ]
  },
  {
   "cell_type": "code",
   "execution_count": null,
   "id": "0e37c1f4",
   "metadata": {},
   "outputs": [],
   "source": [
    "#1934 최소공배수\n",
    "import math\n",
    "n=int(input())\n",
    "for i in range(n):\n",
    "    a,b=map(int,input().split())\n",
    "    print(math.lcm(a,b))"
   ]
  },
  {
   "cell_type": "code",
   "execution_count": 46,
   "id": "c0463c52",
   "metadata": {},
   "outputs": [
    {
     "name": "stdout",
     "output_type": "stream",
     "text": [
      "10 2\n",
      "3 -2 -4 -9 0 3 7 13 8 -3\n",
      "21\n"
     ]
    }
   ],
   "source": [
    "#2435 기상청 인턴 신현수\n",
    "a,b=map(int,input().split())\n",
    "n=list(map(int,input().split()))\n",
    "nn=[]\n",
    "for i in range(a-b+1):\n",
    "    nn.append(sum(n[i:i+b]))\n",
    "nn.sort()\n",
    "print(nn[-1])"
   ]
  },
  {
   "cell_type": "code",
   "execution_count": 52,
   "id": "9d8dc858",
   "metadata": {},
   "outputs": [
    {
     "name": "stdout",
     "output_type": "stream",
     "text": [
      "7\n",
      "General_Physics_1 3 A+\n",
      "Introduction_to_Computer_Science_and_Eng 3 B0\n",
      "Reading_And_Writing 2 C0\n",
      "English_1 3 C+\n",
      "Analytic_Geometry_and_Calculus_1 3 B+\n",
      "Fortran_Programming 3 B+\n",
      "C_Language_Programming 3 A+\n",
      "3.28\n"
     ]
    }
   ],
   "source": [
    "#2755 이번학기 평점은 몇점\n",
    "from decimal import Decimal #소수점 계산을 가능하게 해주는 모듈\n",
    "# 사용법은 Decimal(숫자를 문자형)* 숫자\n",
    "aa={'A+': 4.3, 'A0': 4.0, 'A-': 3.7,'B+': 3.3, 'B0': 3.0, 'B-': 2.7,'C+': 2.3, 'C0': 2.0, 'C-': 1.7,'D+': 1.3, 'D0': 1.0, 'D-': 0.7,'F': 0.0}\n",
    "n=int(input())\n",
    "total=0\n",
    "sub=[]\n",
    "sub1=[]\n",
    "for _ in range(n):\n",
    "    b,c,d=input().split()\n",
    "    sub.append(int(c))\n",
    "    total+=Decimal(str(aa.get(d)))*int(c)\n",
    "    #sub1.append(float(aa.get(d))*int(c))\n",
    "#print(sub,sub1)\n",
    "print(round(total/sum(sub),2))"
   ]
  },
  {
   "cell_type": "code",
   "execution_count": 55,
   "id": "bea751f3",
   "metadata": {
    "scrolled": true
   },
   "outputs": [
    {
     "ename": "KeyboardInterrupt",
     "evalue": "Interrupted by user",
     "output_type": "error",
     "traceback": [
      "\u001b[1;31m---------------------------------------------------------------------------\u001b[0m",
      "\u001b[1;31mKeyboardInterrupt\u001b[0m                         Traceback (most recent call last)",
      "Cell \u001b[1;32mIn[55], line 2\u001b[0m\n\u001b[0;32m      1\u001b[0m \u001b[38;5;66;03m#2804 크로스워드 만들기\u001b[39;00m\n\u001b[1;32m----> 2\u001b[0m a,b\u001b[38;5;241m=\u001b[39m\u001b[38;5;28;43minput\u001b[39;49m\u001b[43m(\u001b[49m\u001b[43m)\u001b[49m\u001b[38;5;241m.\u001b[39mspil\n",
      "File \u001b[1;32m~\\anaconda3\\lib\\site-packages\\ipykernel\\kernelbase.py:1175\u001b[0m, in \u001b[0;36mKernel.raw_input\u001b[1;34m(self, prompt)\u001b[0m\n\u001b[0;32m   1171\u001b[0m \u001b[38;5;28;01mif\u001b[39;00m \u001b[38;5;129;01mnot\u001b[39;00m \u001b[38;5;28mself\u001b[39m\u001b[38;5;241m.\u001b[39m_allow_stdin:\n\u001b[0;32m   1172\u001b[0m     \u001b[38;5;28;01mraise\u001b[39;00m StdinNotImplementedError(\n\u001b[0;32m   1173\u001b[0m         \u001b[38;5;124m\"\u001b[39m\u001b[38;5;124mraw_input was called, but this frontend does not support input requests.\u001b[39m\u001b[38;5;124m\"\u001b[39m\n\u001b[0;32m   1174\u001b[0m     )\n\u001b[1;32m-> 1175\u001b[0m \u001b[38;5;28;01mreturn\u001b[39;00m \u001b[38;5;28;43mself\u001b[39;49m\u001b[38;5;241;43m.\u001b[39;49m\u001b[43m_input_request\u001b[49m\u001b[43m(\u001b[49m\n\u001b[0;32m   1176\u001b[0m \u001b[43m    \u001b[49m\u001b[38;5;28;43mstr\u001b[39;49m\u001b[43m(\u001b[49m\u001b[43mprompt\u001b[49m\u001b[43m)\u001b[49m\u001b[43m,\u001b[49m\n\u001b[0;32m   1177\u001b[0m \u001b[43m    \u001b[49m\u001b[38;5;28;43mself\u001b[39;49m\u001b[38;5;241;43m.\u001b[39;49m\u001b[43m_parent_ident\u001b[49m\u001b[43m[\u001b[49m\u001b[38;5;124;43m\"\u001b[39;49m\u001b[38;5;124;43mshell\u001b[39;49m\u001b[38;5;124;43m\"\u001b[39;49m\u001b[43m]\u001b[49m\u001b[43m,\u001b[49m\n\u001b[0;32m   1178\u001b[0m \u001b[43m    \u001b[49m\u001b[38;5;28;43mself\u001b[39;49m\u001b[38;5;241;43m.\u001b[39;49m\u001b[43mget_parent\u001b[49m\u001b[43m(\u001b[49m\u001b[38;5;124;43m\"\u001b[39;49m\u001b[38;5;124;43mshell\u001b[39;49m\u001b[38;5;124;43m\"\u001b[39;49m\u001b[43m)\u001b[49m\u001b[43m,\u001b[49m\n\u001b[0;32m   1179\u001b[0m \u001b[43m    \u001b[49m\u001b[43mpassword\u001b[49m\u001b[38;5;241;43m=\u001b[39;49m\u001b[38;5;28;43;01mFalse\u001b[39;49;00m\u001b[43m,\u001b[49m\n\u001b[0;32m   1180\u001b[0m \u001b[43m\u001b[49m\u001b[43m)\u001b[49m\n",
      "File \u001b[1;32m~\\anaconda3\\lib\\site-packages\\ipykernel\\kernelbase.py:1217\u001b[0m, in \u001b[0;36mKernel._input_request\u001b[1;34m(self, prompt, ident, parent, password)\u001b[0m\n\u001b[0;32m   1214\u001b[0m             \u001b[38;5;28;01mbreak\u001b[39;00m\n\u001b[0;32m   1215\u001b[0m \u001b[38;5;28;01mexcept\u001b[39;00m \u001b[38;5;167;01mKeyboardInterrupt\u001b[39;00m:\n\u001b[0;32m   1216\u001b[0m     \u001b[38;5;66;03m# re-raise KeyboardInterrupt, to truncate traceback\u001b[39;00m\n\u001b[1;32m-> 1217\u001b[0m     \u001b[38;5;28;01mraise\u001b[39;00m \u001b[38;5;167;01mKeyboardInterrupt\u001b[39;00m(\u001b[38;5;124m\"\u001b[39m\u001b[38;5;124mInterrupted by user\u001b[39m\u001b[38;5;124m\"\u001b[39m) \u001b[38;5;28;01mfrom\u001b[39;00m \u001b[38;5;28mNone\u001b[39m\n\u001b[0;32m   1218\u001b[0m \u001b[38;5;28;01mexcept\u001b[39;00m \u001b[38;5;167;01mException\u001b[39;00m:\n\u001b[0;32m   1219\u001b[0m     \u001b[38;5;28mself\u001b[39m\u001b[38;5;241m.\u001b[39mlog\u001b[38;5;241m.\u001b[39mwarning(\u001b[38;5;124m\"\u001b[39m\u001b[38;5;124mInvalid Message:\u001b[39m\u001b[38;5;124m\"\u001b[39m, exc_info\u001b[38;5;241m=\u001b[39m\u001b[38;5;28;01mTrue\u001b[39;00m)\n",
      "\u001b[1;31mKeyboardInterrupt\u001b[0m: Interrupted by user"
     ]
    }
   ],
   "source": [
    "#2804 크로스워드 만들기\n",
    "a,b=input().split()\n"
   ]
  },
  {
   "cell_type": "code",
   "execution_count": null,
   "id": "f276c8e2",
   "metadata": {},
   "outputs": [],
   "source": []
  },
  {
   "cell_type": "code",
   "execution_count": null,
   "id": "dea6173f",
   "metadata": {},
   "outputs": [],
   "source": []
  },
  {
   "cell_type": "code",
   "execution_count": null,
   "id": "aa69bf93",
   "metadata": {},
   "outputs": [],
   "source": []
  },
  {
   "cell_type": "code",
   "execution_count": null,
   "id": "f074c39e",
   "metadata": {},
   "outputs": [],
   "source": [
    "풀다가 런함↓"
   ]
  },
  {
   "cell_type": "code",
   "execution_count": 16,
   "id": "fc39868e",
   "metadata": {},
   "outputs": [
    {
     "name": "stdout",
     "output_type": "stream",
     "text": [
      "100\n",
      "['1', '0', '0']\n",
      "1\n",
      "0\n",
      "0\n"
     ]
    }
   ],
   "source": [
    "#1526 가장 큰 금민수\n",
    "#금민수=4.7.로 이루어진 수\n",
    "n=list(input())\n",
    "li=[4,7]\n",
    "a=n*2\n",
    "nn=len(n)\n",
    "while 1:\n",
    "    a=int(str(li[1])*nn)\n",
    "    nn-=1\n",
    "    if n>a:break\n",
    "        "
   ]
  },
  {
   "cell_type": "code",
   "execution_count": null,
   "id": "78ad945d",
   "metadata": {},
   "outputs": [],
   "source": [
    "## 2037 문자메시지\n",
    "#공백=0초\n",
    "#p 문자를 치고 난후 기다리는 시간\n",
    "# W 같은 문자를 치고 나서 기다리는 시간\n",
    "p,w=map(int,input().split())\n",
    "n=input()\n",
    "ds=n.replace(\" \",\"\")\n",
    "ds=list(ds)[:]\n",
    "ds=list(dict.fromkeys(ds))\n",
    "print(ds)\n",
    "count=[]\n",
    "for i in  ds:\n",
    "    #print(i)\n",
    "    #print(n.count(i))\n",
    "    count.append(n.count(i)-1)\n",
    "print(count)\n",
    "print(sum(count)*w+len(ds)*p)"
   ]
  },
  {
   "cell_type": "code",
   "execution_count": null,
   "id": "932710f4",
   "metadata": {},
   "outputs": [],
   "source": [
    "1자리 :  4 7 ->2\n",
    "2자리 (4 7) ( 44 47 74 77) =>2+4 =6\n",
    "3자리 2자리 + 444 447 474 744 747 774 777 => 2+4+7 =13"
   ]
  },
  {
   "cell_type": "code",
   "execution_count": null,
   "id": "5cbd4812",
   "metadata": {},
   "outputs": [],
   "source": [
    "#1373 2진수 8진수\n",
    "#하다 맘\n",
    "\n",
    "a='11001100'\n",
    "aa=a[::-1]\n",
    "print(aa)\n",
    "b=[]\n",
    "bb=[]\n",
    "for i in reversed(range(0,len(a),3)):\n",
    "    aaa=aa[i:i+3]\n",
    "    b.append(aaa[::])\n",
    "#print(b)\n",
    "for i in b:\n",
    "    for j in range(len(i)):\n",
    "        bbb=int(i[j])*2**j\n",
    "        #print(bbb)\n",
    "        bb.append(bbb)\n",
    "print(bb)\n",
    "pp=[]\n",
    "for i in reversed(range(0,len(bb),3)):\n",
    "    bbb=bb[i:i+3]\n",
    "    print(bbb)\n",
    "    pp.append(sum(bbb))\n",
    "print(pp)"
   ]
  },
  {
   "cell_type": "code",
   "execution_count": null,
   "id": "996d4680",
   "metadata": {},
   "outputs": [],
   "source": []
  },
  {
   "cell_type": "code",
   "execution_count": null,
   "id": "e7d1a7b2",
   "metadata": {},
   "outputs": [],
   "source": []
  },
  {
   "cell_type": "code",
   "execution_count": null,
   "id": "09be2b06",
   "metadata": {},
   "outputs": [],
   "source": []
  },
  {
   "cell_type": "code",
   "execution_count": null,
   "id": "649af869",
   "metadata": {},
   "outputs": [],
   "source": []
  },
  {
   "cell_type": "code",
   "execution_count": null,
   "id": "5c0b4e95",
   "metadata": {},
   "outputs": [],
   "source": [
    "못품↓"
   ]
  },
  {
   "cell_type": "code",
   "execution_count": null,
   "id": "4247d85c",
   "metadata": {},
   "outputs": [],
   "source": [
    "#1145 침몰\n",
    "import math\n",
    "a=list(map(int,input().split()))\n",
    "a.sort\n",
    "b=[]\n",
    "for i in a:\n",
    "    for j in range(len(a)-2):\n",
    "        b.append(math.lcm(i,a[j+1],a[j+2])) \n",
    "b.sort()\n",
    "print(b)\n",
    "print(b[0])\n"
   ]
  },
  {
   "cell_type": "code",
   "execution_count": 33,
   "id": "0e775f0b",
   "metadata": {},
   "outputs": [
    {
     "ename": "SyntaxError",
     "evalue": "invalid syntax (1438954981.py, line 6)",
     "output_type": "error",
     "traceback": [
      "\u001b[1;36m  Cell \u001b[1;32mIn[33], line 6\u001b[1;36m\u001b[0m\n\u001b[1;33m    for i in range(a:b+1):\u001b[0m\n\u001b[1;37m                    ^\u001b[0m\n\u001b[1;31mSyntaxError\u001b[0m\u001b[1;31m:\u001b[0m invalid syntax\n"
     ]
    }
   ],
   "source": [
    "#침몰\n",
    "#1292 쉽게푸는 문제\n",
    "#a숫자부터b숫자까지의 합\n",
    "a,b= map(int,input().split())\n",
    "print(a,b)\n",
    "bb=[]\n",
    "for i in range(a:b+1):\n",
    "    for _ in range(i):\n",
    "        bb.append(i)\n",
    "print(bb)"
   ]
  },
  {
   "cell_type": "code",
   "execution_count": 32,
   "id": "538dba4f",
   "metadata": {},
   "outputs": [
    {
     "name": "stdout",
     "output_type": "stream",
     "text": [
      "3\n",
      "21 Junkyu\n",
      "21 Dohyun\n",
      "20 Sunyoung\n",
      "{'21': 'Dohyun', '20': 'Sunyoung'}\n",
      "['20', '21']\n"
     ]
    }
   ],
   "source": [
    "### 침몰\n",
    "#10814 나이순정렬\n",
    "\n",
    "n=int(input())\n",
    "\n",
    "name={}\n",
    "for i in range(1,n+1):\n",
    "    a,b =input().split()\n",
    "    name[a]=b\n",
    "print(name)\n",
    "print(sorted(name))"
   ]
  },
  {
   "cell_type": "code",
   "execution_count": null,
   "id": "522cc916",
   "metadata": {},
   "outputs": [],
   "source": [
    "#침몰\n",
    "#1296 팀 이름 정하기\n",
    "#(a0+a1)*(a0+a2)*(a0+a3)*(a1+a2)*(a1+a3)\n",
    "name=input()\n",
    "name_list=[]\n",
    "team_list=[]\n",
    "team_value=[]\n",
    "n=int(input())\n",
    "for _ in range(n):\n",
    "    team=input()\n",
    "    team_list.append(team)\n",
    "    for i in name:\n",
    "        name_list.append(team.count(i))\n",
    "    aw=(name_list[0]+name_list[1])*(name_list[0]+name_list[2])*(name_list[0]+name_list[3])*\\\n",
    "    (name_list[1]+name_list[2])*(name_list[1]+name_list[3])\n",
    "    team_value.append(aw)#\n",
    "print(team_list[team_value.index(max(team_value))])"
   ]
  }
 ],
 "metadata": {
  "kernelspec": {
   "display_name": "Python 3 (ipykernel)",
   "language": "python",
   "name": "python3"
  },
  "language_info": {
   "codemirror_mode": {
    "name": "ipython",
    "version": 3
   },
   "file_extension": ".py",
   "mimetype": "text/x-python",
   "name": "python",
   "nbconvert_exporter": "python",
   "pygments_lexer": "ipython3",
   "version": "3.10.9"
  }
 },
 "nbformat": 4,
 "nbformat_minor": 5
}
